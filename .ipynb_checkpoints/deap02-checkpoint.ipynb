{
 "cells": [
  {
   "cell_type": "code",
   "execution_count": 1,
   "metadata": {
    "collapsed": true
   },
   "outputs": [],
   "source": [
    "import numpy as np\n",
    "import matplotlib.pyplot as plt\n",
    "import seaborn\n",
    "import random\n",
    "%matplotlib inline"
   ]
  },
  {
   "cell_type": "code",
   "execution_count": 2,
   "metadata": {
    "collapsed": true
   },
   "outputs": [],
   "source": [
    "from deap import algorithms\n",
    "from deap import base\n",
    "from deap import creator\n",
    "from deap import tools"
   ]
  },
  {
   "cell_type": "code",
   "execution_count": 3,
   "metadata": {
    "collapsed": true
   },
   "outputs": [],
   "source": [
    "IND_SIZE = 5"
   ]
  },
  {
   "cell_type": "code",
   "execution_count": 5,
   "metadata": {},
   "outputs": [
    {
     "name": "stderr",
     "output_type": "stream",
     "text": [
      "/home/peregrinus/.local/lib64/python3.5/site-packages/deap-1.2.2-py3.5-linux-x86_64.egg/deap/creator.py:141: RuntimeWarning: A class named 'FitnessMin' has already been created and it will be overwritten. Consider deleting previous creation of that class or rename it.\n",
      "  RuntimeWarning)\n"
     ]
    }
   ],
   "source": [
    "creator.create(\"FitnessMin\", base.Fitness, weights=(1.0,))\n",
    "creator.create(\"Individual\", np.ndarray, fitness=creator.FitnessMin)"
   ]
  },
  {
   "cell_type": "code",
   "execution_count": 6,
   "metadata": {
    "collapsed": true
   },
   "outputs": [],
   "source": [
    "toolbox = base.Toolbox()"
   ]
  },
  {
   "cell_type": "code",
   "execution_count": 7,
   "metadata": {
    "collapsed": true
   },
   "outputs": [],
   "source": [
    "toolbox.register(\"attr_float\", random.uniform, 0.0, 1.0)\n",
    "toolbox.register(\"individual\", \n",
    "                 tools.initRepeat, \n",
    "                 creator.Individual,\n",
    "                 toolbox.attr_float,\n",
    "                 n=IND_SIZE)"
   ]
  },
  {
   "cell_type": "code",
   "execution_count": 8,
   "metadata": {
    "collapsed": true
   },
   "outputs": [],
   "source": [
    "ind1 = toolbox.individual()"
   ]
  },
  {
   "cell_type": "code",
   "execution_count": 9,
   "metadata": {},
   "outputs": [
    {
     "data": {
      "text/plain": [
       "<iterator at 0x7f138f8897b8>"
      ]
     },
     "execution_count": 9,
     "metadata": {},
     "output_type": "execute_result"
    }
   ],
   "source": [
    "iter(ind1)"
   ]
  },
  {
   "cell_type": "code",
   "execution_count": 10,
   "metadata": {},
   "outputs": [
    {
     "name": "stdout",
     "output_type": "stream",
     "text": [
      "[ 0.76775034  0.06350053  0.46256425  0.74084019  0.63507355]\n"
     ]
    }
   ],
   "source": [
    "print(ind1)"
   ]
  },
  {
   "cell_type": "code",
   "execution_count": 11,
   "metadata": {},
   "outputs": [
    {
     "name": "stdout",
     "output_type": "stream",
     "text": [
      "Help on function initRepeat in module deap.tools.init:\n",
      "\n",
      "initRepeat(container, func, n)\n",
      "    Call the function *container* with a generator function corresponding\n",
      "    to the calling *n* times the function *func*.\n",
      "    \n",
      "    :param container: The type to put in the data from func.\n",
      "    :param func: The function that will be called n times to fill the\n",
      "                 container.\n",
      "    :param n: The number of times to repeat func.\n",
      "    :returns: An instance of the container filled with data from func.\n",
      "    \n",
      "    This helper function can can be used in conjunction with a Toolbox \n",
      "    to register a generator of filled containers, as individuals or \n",
      "    population.\n",
      "    \n",
      "        >>> initRepeat(list, random.random, 2) # doctest: +ELLIPSIS, \n",
      "        ...                                    # doctest: +NORMALIZE_WHITESPACE\n",
      "        [0.4761..., 0.6302...]\n",
      "    \n",
      "    See the :ref:`list-of-floats` and :ref:`population` tutorials for more examples.\n",
      "\n"
     ]
    }
   ],
   "source": [
    "help(tools.initRepeat)"
   ]
  },
  {
   "cell_type": "code",
   "execution_count": 36,
   "metadata": {
    "collapsed": true
   },
   "outputs": [],
   "source": [
    "toolbox.register(\"population\", tools.initRepeat, list, toolbox.individual)"
   ]
  },
  {
   "cell_type": "code",
   "execution_count": 37,
   "metadata": {
    "collapsed": true
   },
   "outputs": [],
   "source": [
    "def evaluate(individual):\n",
    "    return np.sum([ i**2.0 for i in individual ]),"
   ]
  },
  {
   "cell_type": "code",
   "execution_count": 38,
   "metadata": {
    "collapsed": true
   },
   "outputs": [],
   "source": [
    "toolbox.register(\"evaluate\", evaluate)"
   ]
  },
  {
   "cell_type": "code",
   "execution_count": 39,
   "metadata": {
    "collapsed": true
   },
   "outputs": [],
   "source": [
    "toolbox.register(\"mate\", tools.cxBlend, alpha=0.5)"
   ]
  },
  {
   "cell_type": "code",
   "execution_count": 40,
   "metadata": {},
   "outputs": [
    {
     "name": "stdout",
     "output_type": "stream",
     "text": [
      "Help on method register in module deap.base:\n",
      "\n",
      "register(alias, function, *args, **kargs) method of deap.base.Toolbox instance\n",
      "    Register a *function* in the toolbox under the name *alias*. You\n",
      "    may provide default arguments that will be passed automatically when\n",
      "    calling the registered function. Fixed arguments can then be overriden\n",
      "    at function call time.\n",
      "    \n",
      "    :param alias: The name the operator will take in the toolbox. If the\n",
      "                  alias already exist it will overwrite the the operator\n",
      "                  already present.\n",
      "    :param function: The function to which refer the alias.\n",
      "    :param argument: One or more argument (and keyword argument) to pass\n",
      "                     automatically to the registered function when called,\n",
      "                     optional.\n",
      "    \n",
      "    The following code block is an example of how the toolbox is used. ::\n",
      "    \n",
      "        >>> def func(a, b, c=3):\n",
      "        ...     print(a, b, c)\n",
      "        ... \n",
      "        >>> tools = Toolbox()\n",
      "        >>> tools.register(\"myFunc\", func, 2, c=4)\n",
      "        >>> tools.myFunc(3)\n",
      "        2 3 4\n",
      "    \n",
      "    The registered function will be given the attributes :attr:`__name__`\n",
      "    set to the alias and :attr:`__doc__` set to the original function's\n",
      "    documentation. The :attr:`__dict__` attribute will also be updated\n",
      "    with the original function's instance dictionary, if any.\n",
      "\n"
     ]
    }
   ],
   "source": [
    "help(toolbox.register)"
   ]
  },
  {
   "cell_type": "code",
   "execution_count": 41,
   "metadata": {
    "collapsed": true
   },
   "outputs": [],
   "source": [
    "toolbox.register(\"mutate\", tools.mutGaussian, mu=0, sigma=1, indpb=0.2)"
   ]
  },
  {
   "cell_type": "code",
   "execution_count": 42,
   "metadata": {
    "collapsed": true
   },
   "outputs": [],
   "source": [
    "toolbox.register(\"select\", tools.selTournament, tournsize=3)"
   ]
  },
  {
   "cell_type": "code",
   "execution_count": 43,
   "metadata": {
    "collapsed": true
   },
   "outputs": [],
   "source": [
    "pop = toolbox.population(n=300)"
   ]
  },
  {
   "cell_type": "code",
   "execution_count": 25,
   "metadata": {},
   "outputs": [
    {
     "name": "stdout",
     "output_type": "stream",
     "text": [
      "gen\tnevals\n",
      "0  \t300   \n",
      "1  \t174   \n",
      "2  \t184   \n",
      "3  \t164   \n",
      "4  \t181   \n",
      "5  \t164   \n",
      "6  \t181   \n",
      "7  \t180   \n",
      "8  \t190   \n",
      "9  \t174   \n",
      "10 \t175   \n",
      "11 \t182   \n",
      "12 \t185   \n",
      "13 \t186   \n",
      "14 \t187   \n",
      "15 \t185   \n",
      "16 \t188   \n",
      "17 \t171   \n",
      "18 \t196   \n",
      "19 \t169   \n",
      "20 \t195   \n",
      "21 \t186   \n",
      "22 \t198   \n",
      "23 \t192   \n",
      "24 \t166   \n",
      "25 \t188   \n",
      "26 \t175   \n",
      "27 \t170   \n",
      "28 \t173   \n",
      "29 \t177   \n",
      "30 \t163   \n",
      "31 \t175   \n",
      "32 \t196   \n",
      "33 \t185   \n",
      "34 \t154   \n",
      "35 \t187   \n",
      "36 \t192   \n",
      "37 \t174   \n",
      "38 \t180   \n",
      "39 \t167   \n",
      "40 \t192   \n",
      "41 \t170   \n",
      "42 \t173   \n",
      "43 \t189   \n",
      "44 \t179   \n",
      "45 \t175   \n",
      "46 \t169   \n",
      "47 \t168   \n",
      "48 \t185   \n",
      "49 \t177   \n",
      "50 \t175   \n"
     ]
    }
   ],
   "source": [
    "result = algorithms.eaSimple(pop, toolbox, cxpb=0.5, mutpb=0.2, ngen=50)"
   ]
  },
  {
   "cell_type": "code",
   "execution_count": 44,
   "metadata": {},
   "outputs": [
    {
     "name": "stdout",
     "output_type": "stream",
     "text": [
      "0.76775034146 0.76775034146\n",
      "0.0635005266118 0.0635005266118\n",
      "0.462564253552 0.462564253552\n",
      "0.740840192514 0.740840192514\n",
      "0.635073547493 0.635073547493\n"
     ]
    }
   ],
   "source": [
    "ind2 = toolbox.clone(ind1)  \n",
    "for i, (x1, x2) in enumerate(zip(ind1, ind2)):\n",
    "    print(x1,x2)"
   ]
  },
  {
   "cell_type": "code",
   "execution_count": 45,
   "metadata": {},
   "outputs": [
    {
     "name": "stdout",
     "output_type": "stream",
     "text": [
      "[ 0.76775034  0.06350053  0.46256425  0.74084019  0.63507355] [ 0.76775034  0.06350053  0.46256425  0.74084019  0.63507355]\n"
     ]
    }
   ],
   "source": [
    "print(ind1, ind2)"
   ]
  },
  {
   "cell_type": "code",
   "execution_count": 46,
   "metadata": {},
   "outputs": [
    {
     "name": "stdout",
     "output_type": "stream",
     "text": [
      "Help on function cxBlend in module deap.tools.crossover:\n",
      "\n",
      "cxBlend(ind1, ind2, alpha)\n",
      "    Executes a blend crossover that modify in-place the input individuals.\n",
      "    The blend crossover expects :term:`sequence` individuals of floating point\n",
      "    numbers.\n",
      "    \n",
      "    :param ind1: The first individual participating in the crossover.\n",
      "    :param ind2: The second individual participating in the crossover.\n",
      "    :param alpha: Extent of the interval in which the new values can be drawn\n",
      "                  for each attribute on both side of the parents' attributes.\n",
      "    :returns: A tuple of two individuals.\n",
      "    \n",
      "    This function uses the :func:`~random.random` function from the python base\n",
      "    :mod:`random` module.\n",
      "\n"
     ]
    }
   ],
   "source": [
    "help(tools.cxBlend)"
   ]
  },
  {
   "cell_type": "code",
   "execution_count": null,
   "metadata": {
    "collapsed": true
   },
   "outputs": [],
   "source": []
  }
 ],
 "metadata": {
  "kernelspec": {
   "display_name": "Python 3",
   "language": "python",
   "name": "python3"
  },
  "language_info": {
   "codemirror_mode": {
    "name": "ipython",
    "version": 3
   },
   "file_extension": ".py",
   "mimetype": "text/x-python",
   "name": "python",
   "nbconvert_exporter": "python",
   "pygments_lexer": "ipython3",
   "version": "3.4.5"
  }
 },
 "nbformat": 4,
 "nbformat_minor": 2
}
