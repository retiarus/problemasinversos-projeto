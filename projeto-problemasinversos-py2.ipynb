{
 "cells": [
  {
   "cell_type": "code",
   "execution_count": 1,
   "metadata": {
    "collapsed": true
   },
   "outputs": [],
   "source": [
    "import numpy as np\n",
    "import pandas as pd\n",
    "import os\n",
    "import sys\n",
    "import matplotlib.pyplot as plt\n",
    "import seaborn\n",
    "\n",
    "from itertools import islice, count\n",
    "%matplotlib inline"
   ]
  },
  {
   "cell_type": "code",
   "execution_count": 2,
   "metadata": {},
   "outputs": [
    {
     "name": "stdout",
     "output_type": "stream",
     "text": [
      "lcdmlib not imported, using pure python version of sigma\n"
     ]
    }
   ],
   "source": [
    "import pycosmicstar.lcdmcosmology as lcdmcos"
   ]
  },
  {
   "cell_type": "code",
   "execution_count": 3,
   "metadata": {
    "collapsed": true
   },
   "outputs": [],
   "source": [
    "# import regularization module\n",
    "os.chdir(\"/home/peregrinus/Arquivos/cap/problemas-inversos/optimization-regularization/regularization/\")\n",
    "import regularization as reg\n",
    "\n",
    "# import objetive function\n",
    "os.chdir(\"/home/peregrinus/Arquivos/cap/problemas-inversos/\")\n",
    "import objectivefunction as of"
   ]
  },
  {
   "cell_type": "code",
   "execution_count": 4,
   "metadata": {
    "collapsed": true
   },
   "outputs": [],
   "source": [
    "# load lcdm model\n",
    "lcdmUniverser = lcdmcos.Lcdmcosmology(omegam=0.24,\n",
    "                              omegab=0.04, \n",
    "                              omegal=0.73,\n",
    "                               h=0.7)"
   ]
  },
  {
   "cell_type": "code",
   "execution_count": 5,
   "metadata": {
    "collapsed": true
   },
   "outputs": [],
   "source": [
    "delta_mbh = 0.1 # pass in m_bh\n",
    "delta_z = 0.1 # pass in z\n",
    "dz = -delta_z\n",
    "dm = delta_mbh\n",
    "D = dz/dm \n",
    "m0 = 7.7 # inicial mass\n",
    "mf = 9.6 # final mass\n",
    "z0 = 20.0 # inicial redshift\n",
    "zf = 0.3 # final redshift"
   ]
  },
  {
   "cell_type": "code",
   "execution_count": 6,
   "metadata": {
    "collapsed": true
   },
   "outputs": [],
   "source": [
    "# load csv with experimental data\n",
    "os.chdir(\"/home/peregrinus/Arquivos/cap/problemas-inversos/projeto\")\n",
    "df = pd.read_csv('mean_LBH.csv')"
   ]
  },
  {
   "cell_type": "code",
   "execution_count": 7,
   "metadata": {
    "collapsed": true
   },
   "outputs": [],
   "source": [
    "# find the number of points to z and m_bh to build the matrix of\n",
    "# mass distribution\n",
    "num_pontos_z = len(df.z.unique())\n",
    "num_pontos_m = len(df.massBH.unique())"
   ]
  },
  {
   "cell_type": "code",
   "execution_count": 1,
   "metadata": {},
   "outputs": [
    {
     "ename": "NameError",
     "evalue": "name 'np' is not defined",
     "output_type": "error",
     "traceback": [
      "\u001b[0;31m\u001b[0m",
      "\u001b[0;31mNameError\u001b[0mTraceback (most recent call last)",
      "\u001b[0;32m<ipython-input-1-a0d95088efd1>\u001b[0m in \u001b[0;36m<module>\u001b[0;34m()\u001b[0m\n\u001b[0;32m----> 1\u001b[0;31m \u001b[0mnbh_obs\u001b[0m \u001b[0;34m=\u001b[0m \u001b[0mnp\u001b[0m\u001b[0;34m.\u001b[0m\u001b[0mempty\u001b[0m\u001b[0;34m(\u001b[0m\u001b[0;34m(\u001b[0m\u001b[0mnum_pontos_m\u001b[0m\u001b[0;34m,\u001b[0m \u001b[0mnum_pontos_z\u001b[0m\u001b[0;34m)\u001b[0m\u001b[0;34m)\u001b[0m\u001b[0;34m\u001b[0m\u001b[0m\n\u001b[0m\u001b[1;32m      2\u001b[0m \u001b[0mnbh_obs\u001b[0m\u001b[0;34m.\u001b[0m\u001b[0mfill\u001b[0m\u001b[0;34m(\u001b[0m\u001b[0mnp\u001b[0m\u001b[0;34m.\u001b[0m\u001b[0mnan\u001b[0m\u001b[0;34m)\u001b[0m\u001b[0;34m\u001b[0m\u001b[0m\n",
      "\u001b[0;31mNameError\u001b[0m: name 'np' is not defined"
     ]
    }
   ],
   "source": [
    "# preparer matrix nbh_obs\n",
    "nbh_obs = np.empty((num_pontos_m, num_pontos_z))\n",
    "nbh_obs.fill(np.nan)"
   ]
  },
  {
   "cell_type": "code",
   "execution_count": 39,
   "metadata": {
    "collapsed": true
   },
   "outputs": [],
   "source": [
    "# load data from csv to matrix\n",
    "for l in range(0, df.shape[0]):\n",
    "    i = int(np.around(df.z[l]*10.0, decimals=1) - 3.0)\n",
    "    j = int(np.around(df.massBH[l]*10.0, decimals=1) - 77.0)\n",
    "    nbh_obs[j][i] = df.nObjects[l]"
   ]
  },
  {
   "cell_type": "code",
   "execution_count": 40,
   "metadata": {
    "collapsed": true
   },
   "outputs": [],
   "source": [
    "class mbh_mean_dt(object):\n",
    "    \"\"\"\n",
    "    This class implement the average of the varitation of m_bh in relation to time\n",
    "    \"\"\"\n",
    "    def __init__(self, lb_mean_par, mbh_par, alpha_par, tau_par, eta, c = 3e8):\n",
    "        self.__const1 = (1/c**2.0)*((1-eta)/eta)\n",
    "        self.__lb_mean_par = lb_mean_par \n",
    "        self.__mbh_par = mbh_par \n",
    "        self.__alpha_par = alpha_par  \n",
    "        self.__tau_par = tau_par\n",
    "        \n",
    "    def __call__(self, mbh, tz):\n",
    "        return self.__const1 * self.__lb_mean_par * (mbh/self.__mbh_par)**self.__alpha_par * (self.__tau_par/tz) * np.exp(-tz/self.__tau_par)\n",
    "    \n",
    "    @property\n",
    "    def alpha_par(self):\n",
    "        return self.__alpha_par"
   ]
  },
  {
   "cell_type": "code",
   "execution_count": 41,
   "metadata": {
    "collapsed": true
   },
   "outputs": [],
   "source": [
    "class mbh_mean_dt_dm(object):\n",
    "    \"\"\"\n",
    "    This class implement the derivative in relation to m_bh for the class mbh_mean_dt\n",
    "    \"\"\"\n",
    "    def __init__(self, mbh_mean_dt):\n",
    "        self.__alpha_par = mbh_mean_dt.alpha_par\n",
    "        self.__mbh_mean_dt = mbh_mean_dt\n",
    "    \n",
    "    def __call__(self, mbh, tz):\n",
    "        return (self.__alpha_par/mbh) * self.__mbh_mean_dt(mbh, tz)"
   ]
  },
  {
   "cell_type": "code",
   "execution_count": 43,
   "metadata": {
    "collapsed": true
   },
   "outputs": [],
   "source": [
    "class V(object):\n",
    "    \"\"\"\n",
    "    \"\"\"\n",
    "    def __init__(self, mmt, mmtm):\n",
    "        self.__mmt = mmt\n",
    "        self.__mmtm = mmtm\n",
    "\n",
    "    def __call__(self, mbh, tz, dm):\n",
    "        return self.__mmtm(mbh, tz) + self.__mmt(mbh, tz)/dm"
   ]
  },
  {
   "cell_type": "code",
   "execution_count": 71,
   "metadata": {
    "collapsed": true
   },
   "outputs": [],
   "source": [
    "#        best fit         bias      error \n",
    "# lb_mean_par : 3.05e47 : 6.65e45  : 3.14e46\n",
    "# mbh_par     : 2.19e11 : 1.88e10  : 4.88e10\n",
    "# alpha_par   : 2.71e-1 : -1.29e-4 : 1.18e-2\n",
    "# tau_par     : 4.81e9  : 1.05e7   : 1.69e8\n",
    "\n",
    "# load the class defined above with values find by bootstrap regresssion from experimental\n",
    "# data\n",
    "\n",
    "mmt = mbh_mean_dt(3.05e7, 2.19e11, 2.71e-1, 4.81e9, 0.1)\n",
    "mmtm = mbh_mean_dt_dm(mmt)\n",
    "auxiliarV = V(mmt, mmtm)"
   ]
  },
  {
   "cell_type": "code",
   "execution_count": 72,
   "metadata": {
    "collapsed": true
   },
   "outputs": [],
   "source": [
    "# L is a representative function to dt/dz in z = zj\n",
    "L = lambda z: lcdmUniverser.dt_dz(z)"
   ]
  },
  {
   "cell_type": "code",
   "execution_count": 73,
   "metadata": {
    "collapsed": true
   },
   "outputs": [],
   "source": [
    "# A the operator of time evolution\n",
    "A = np.identity(num_pontos_m)\n",
    "\n",
    "# the matriz At for time evolution has dependencie in time, \n",
    "# so need to be remake for each time\n",
    "\n",
    "j = 0 # the index j represent time(redshift)\n",
    "zj = dz*j + z0 # the value of the redshift in pass j\n",
    "\n",
    "# the value of time to zj, consider the cosmologic model\n",
    "tzj = lcdmUniverser.dt_dz(zj)*delta_z \n",
    "\n",
    "while zj > 0.2:\n",
    "    At = np.zeros((num_pontos_m, num_pontos_m))\n",
    "    \n",
    "    lzj = L(zj)\n",
    "    for i in islice(count(), 1, num_pontos_m-1):\n",
    "        mi = dm*i + m0    \n",
    "        if i-1 >= 0:\n",
    "            At[i][i-1] = lzj*D*mmt(mi, tzj)\n",
    "        At[i][i] = 1 - dz*auxiliarV(mi, tzj, dm)*lzj\n",
    "\n",
    "    mi = dm*0 + m0\n",
    "    At[0][0] = 1 - dz*L(zj)*auxiliarV(mi, tzj, dm) + lzj*D*mmtm(mi, tzj)\n",
    "    mi = dm*(num_pontos_m-1) + m0\n",
    "    At[num_pontos_m-1][num_pontos_m-1] = 1 - dz*L(zj)*auxiliarV(mi, tzj, dm) + lzj*D*mmtm(mi, tzj)\n",
    "    \n",
    "    A = np.dot(A, At)\n",
    "    zj += dz\n",
    "    tzj += lcdmUniverser.dt_dz(zj)*delta_z"
   ]
  },
  {
   "cell_type": "code",
   "execution_count": 74,
   "metadata": {
    "collapsed": true
   },
   "outputs": [],
   "source": [
    "# define gaussian function as initial condition,\n",
    "# to avaliate the direct model\n",
    "def gaussian(x, mu, sig):\n",
    "    return np.exp(-np.power(x - mu, 2.) / (2 * np.power(sig, 2.)))"
   ]
  },
  {
   "cell_type": "code",
   "execution_count": 75,
   "metadata": {
    "collapsed": true
   },
   "outputs": [],
   "source": [
    "m = np.linspace(m0, mf, num_pontos_m)"
   ]
  },
  {
   "cell_type": "code",
   "execution_count": 76,
   "metadata": {
    "collapsed": true
   },
   "outputs": [],
   "source": [
    "# generate initial test condition to evolve in time\n",
    "test_initial_condition = gaussian(m, (m0+mf)/2., 1.)"
   ]
  },
  {
   "cell_type": "code",
   "execution_count": 77,
   "metadata": {},
   "outputs": [
    {
     "data": {
      "image/png": "[encoded data removed]",
      "text/plain": [
       "<matplotlib.figure.Figure at 0x7f22c5a125d0>"
      ]
     },
     "metadata": {},
     "output_type": "display_data"
    }
   ],
   "source": [
    "from matplotlib import pyplot as mp\n",
    "mp.plot(m, test_initial_condition)\n",
    "mp.show()"
   ]
  },
  {
   "cell_type": "code",
   "execution_count": 78,
   "metadata": {},
   "outputs": [
    {
     "data": {
      "image/png": "[encoded data removed]",
      "text/plain": [
       "<matplotlib.figure.Figure at 0x7f22c5e31710>"
      ]
     },
     "metadata": {},
     "output_type": "display_data"
    }
   ],
   "source": [
    "# evolve the initial condition using the operator A,\n",
    "# for time evolution, and plot the same\n",
    "test_initial_condition_evolve = A.dot(test_initial_condition)\n",
    "mp.plot(m, test_initial_condition_evolve)\n",
    "mp.show()"
   ]
  },
  {
   "cell_type": "code",
   "execution_count": 99,
   "metadata": {},
   "outputs": [
    {
     "data": {
      "image/png": "[encoded data removed]",
      "text/plain": [
       "<matplotlib.figure.Figure at 0x7f22c59afbd0>"
      ]
     },
     "metadata": {},
     "output_type": "display_data"
    }
   ],
   "source": [
    "# add noise to the evolve configuration\n",
    "sigma = 0.0\n",
    "np.random.seed(seed=1234)\n",
    "test_initial_condition_evolve += sigma*np.random.uniform(low=0.0, high=1.0, size=num_pontos_m)\n",
    "mp.plot(m, test_initial_condition_evolve)\n",
    "mp.show()"
   ]
  },
  {
   "cell_type": "code",
   "execution_count": 100,
   "metadata": {
    "collapsed": true
   },
   "outputs": [],
   "source": [
    "# load regularization, Tiknov order 0\n",
    "\n",
    "alpha = 0\n",
    "tik0 = reg.TikhonovOrder0(num_pontos_m)\n",
    "\n",
    "J = of.FuncJ(alpha, A.dot, tik0)\n",
    "Jmeasure = lambda f: J(f, test_initial_condition_evolve)\n",
    "\n",
    "def evaluate(individual):\n",
    "    return (Jmeasure(individual),)"
   ]
  },
  {
   "cell_type": "code",
   "execution_count": 101,
   "metadata": {
    "collapsed": true
   },
   "outputs": [],
   "source": [
    "from deap import algorithms\n",
    "from deap import base\n",
    "from deap import creator\n",
    "from deap import tools"
   ]
  },
  {
   "cell_type": "code",
   "execution_count": 102,
   "metadata": {
    "collapsed": true
   },
   "outputs": [],
   "source": [
    "creator.create(\"FitnessMin\", base.Fitness, weights=(-1.0,))\n",
    "creator.create(\"Individual\", np.ndarray, fitness=creator.FitnessMin)"
   ]
  },
  {
   "cell_type": "code",
   "execution_count": 103,
   "metadata": {
    "collapsed": true
   },
   "outputs": [],
   "source": [
    "toolbox = base.Toolbox()"
   ]
  },
  {
   "cell_type": "code",
   "execution_count": 104,
   "metadata": {
    "collapsed": true
   },
   "outputs": [],
   "source": [
    "np.random.seed(1234)\n",
    "toolbox.register(\"attr_float\", np.random.uniform, 0., 1.)\n",
    "toolbox.register(\"individual\", \n",
    "                 tools.initRepeat,\n",
    "                 creator.Individual,\n",
    "                 toolbox.attr_float,\n",
    "                 n=num_pontos_m)\n",
    "toolbox.register(\"population\", tools.initRepeat, list, toolbox.individual)"
   ]
  },
  {
   "cell_type": "code",
   "execution_count": 105,
   "metadata": {
    "collapsed": true
   },
   "outputs": [],
   "source": [
    "toolbox.register(\"evaluate\", evaluate)\n",
    "toolbox.register(\"mate\", tools.cxBlend, alpha=0.5)\n",
    "toolbox.register(\"mutate\", tools.mutGaussian, mu=0, sigma=1, indpb=0.2)\n",
    "toolbox.register(\"select\", tools.selTournament, tournsize=6)"
   ]
  },
  {
   "cell_type": "code",
   "execution_count": 106,
   "metadata": {
    "collapsed": true
   },
   "outputs": [],
   "source": [
    "pop = toolbox.population(n=500)"
   ]
  },
  {
   "cell_type": "code",
   "execution_count": 107,
   "metadata": {
    "collapsed": true
   },
   "outputs": [],
   "source": [
    "stats = tools.Statistics(key=lambda ind: ind.fitness.values)\n",
    "stats.register(\"avg\", np.mean)\n",
    "stats.register(\"std\", np.std)\n",
    "stats.register(\"min\", np.min)\n",
    "stats.register(\"max\", np.max)\n",
    "\n",
    "#logbook = tools.Logbook()\n",
    "#logbook.record(gen=0, evals=30, **record)"
   ]
  },
  {
   "cell_type": "code",
   "execution_count": 109,
   "metadata": {},
   "outputs": [
    {
     "name": "stdout",
     "output_type": "stream",
     "text": [
      "gen\tnevals\tavg    \tstd    \tmin    \tmax    \n",
      "0  \t0     \t140.038\t307.418\t1.27614\t2858.23\n",
      "1  \t370   \t179.702\t381.209\t1.27614\t2826   \n",
      "2  \t364   \t187.792\t386.824\t1.27429\t3153.26\n",
      "3  \t387   \t151.708\t318.959\t1.27386\t2538.98\n",
      "4  \t391   \t164.213\t334.123\t1.27134\t2495.27\n",
      "5  \t375   \t164.266\t337.792\t1.27134\t2648.98\n",
      "6  \t387   \t194.07 \t370.315\t1.26732\t2600.49\n",
      "7  \t389   \t176.674\t378.25 \t1.26419\t3171.9 \n",
      "8  \t367   \t215.562\t451.072\t1.25954\t3539.74\n",
      "9  \t356   \t188.537\t428.853\t1.25858\t4920.46\n",
      "10 \t354   \t165.954\t359.127\t1.25765\t2653.12\n",
      "11 \t379   \t161.946\t312.898\t1.25444\t2070.31\n",
      "12 \t389   \t154.374\t302.179\t1.25307\t2451.89\n",
      "13 \t394   \t174.51 \t345.888\t1.25308\t2528.87\n",
      "14 \t370   \t166.958\t318.964\t1.24655\t2563   \n",
      "15 \t376   \t151.308\t295.078\t1.24424\t2841.42\n",
      "16 \t378   \t170.155\t352.326\t1.23992\t4307.76\n",
      "17 \t346   \t203.419\t418.492\t1.23959\t3189.44\n",
      "18 \t355   \t183.503\t373.041\t1.23868\t3014.03\n",
      "19 \t395   \t179.866\t419.981\t1.23604\t5616.86\n",
      "20 \t383   \t172.17 \t334.867\t1.23423\t2435.37\n",
      "21 \t363   \t177.5  \t382.547\t1.2312 \t3477.33\n",
      "22 \t375   \t157.119\t286.052\t1.22901\t1862.49\n",
      "23 \t381   \t180.83 \t334.311\t1.22751\t2355.96\n",
      "24 \t360   \t171.899\t372.777\t1.22597\t3037.67\n",
      "25 \t363   \t177.183\t373.918\t1.22421\t3162.52\n",
      "26 \t373   \t166.736\t356.339\t1.22273\t3436.75\n",
      "27 \t379   \t167.291\t356.383\t1.22252\t3332.68\n",
      "28 \t378   \t194.26 \t381.088\t1.22048\t2370.05\n",
      "29 \t375   \t153.913\t351.023\t1.22026\t3535.48\n",
      "30 \t379   \t169.447\t334.071\t1.21872\t2548.94\n",
      "31 \t384   \t149.828\t322.266\t1.21744\t4002.09\n",
      "32 \t368   \t195.711\t404    \t1.21443\t2688.3 \n",
      "33 \t366   \t148.372\t334.314\t1.21137\t3294.66\n",
      "34 \t381   \t170.743\t328.319\t1.21063\t1969.02\n",
      "35 \t377   \t174.904\t329.055\t1.20822\t2171.19\n",
      "36 \t385   \t172.769\t368.096\t1.20822\t3447.17\n",
      "37 \t376   \t173.868\t371.557\t1.20624\t2694.47\n",
      "38 \t372   \t135.671\t287.458\t1.20537\t2378.05\n",
      "39 \t376   \t166.162\t356.393\t1.20089\t3272.27\n",
      "40 \t383   \t157.394\t322.123\t1.20089\t3031.65\n",
      "41 \t374   \t189.994\t384.93 \t1.19816\t3034.92\n",
      "42 \t380   \t203.183\t496.525\t1.19816\t5692.17\n",
      "43 \t384   \t183.706\t370.871\t1.194  \t2799.93\n",
      "44 \t376   \t163.398\t352.791\t1.194  \t2673.72\n",
      "45 \t390   \t175.289\t374.644\t1.19276\t3103.68\n",
      "46 \t377   \t168.144\t391.392\t1.19276\t5680.16\n",
      "47 \t359   \t150.721\t351.811\t1.19041\t4249.59\n",
      "48 \t368   \t142.678\t288.611\t1.18947\t2009.8 \n",
      "49 \t367   \t182.295\t381.568\t1.18947\t2987.57\n",
      "50 \t382   \t175.27 \t373.936\t1.18784\t3316.76\n",
      "51 \t376   \t175.134\t387.893\t1.18581\t4146.07\n",
      "52 \t376   \t168.531\t350.127\t1.18446\t2604.02\n",
      "53 \t370   \t145.141\t310.841\t1.18295\t2686.78\n",
      "54 \t373   \t160.404\t347.664\t1.18281\t3157.19\n",
      "55 \t384   \t180.902\t369.524\t1.18085\t4339.17\n",
      "56 \t364   \t175.852\t369.543\t1.17731\t2588.29\n",
      "57 \t376   \t187.856\t342.323\t1.17731\t2273.43\n",
      "58 \t393   \t187.438\t366.885\t1.17659\t2425.25\n",
      "59 \t396   \t176.14 \t339.56 \t1.17355\t2686.74\n",
      "60 \t379   \t175.02 \t389.622\t1.17355\t3470.96\n",
      "61 \t348   \t136.47 \t326.667\t1.1726 \t2950.01\n",
      "62 \t370   \t153.55 \t322.91 \t1.17099\t2610.87\n",
      "63 \t379   \t160.087\t353.552\t1.17061\t2741.67\n",
      "64 \t400   \t144.543\t314.587\t1.16806\t4117.75\n",
      "65 \t360   \t151.996\t348.864\t1.16697\t3522.67\n",
      "66 \t368   \t146.797\t337.766\t1.16431\t4103.43\n",
      "67 \t376   \t181.319\t376.702\t1.16248\t2423.53\n",
      "68 \t381   \t159.876\t362.371\t1.16248\t2425.64\n",
      "69 \t390   \t207.195\t421.344\t1.16221\t3328.96\n",
      "70 \t368   \t174.345\t364.059\t1.16034\t2744.51\n",
      "71 \t378   \t156.154\t327.423\t1.15939\t2987.72\n",
      "72 \t359   \t148.955\t349.791\t1.15888\t3084.47\n",
      "73 \t345   \t166.096\t383.208\t1.15647\t4402.46\n",
      "74 \t379   \t186.008\t382.205\t1.15544\t3459.86\n",
      "75 \t365   \t157.742\t361.971\t1.15351\t2803.98\n",
      "76 \t372   \t145.041\t322.208\t1.15084\t2484.45\n",
      "77 \t389   \t178.883\t429.872\t1.14662\t4497.95\n",
      "78 \t357   \t164.865\t391.982\t1.14662\t3247.55\n",
      "79 \t396   \t191.579\t352.983\t1.14521\t2789.2 \n",
      "80 \t377   \t156.278\t297.613\t1.14365\t2344.53\n",
      "81 \t402   \t198.472\t405.919\t1.14068\t3794.87\n",
      "82 \t388   \t213.946\t460.13 \t1.14088\t4450.68\n",
      "83 \t388   \t166.86 \t344.008\t1.13861\t3302.72\n",
      "84 \t375   \t174.891\t379.711\t1.13805\t3486.91\n",
      "85 \t379   \t145.664\t319.691\t1.1352 \t3474.46\n",
      "86 \t373   \t194.074\t410.444\t1.13209\t3477.46\n",
      "87 \t355   \t130.545\t269.278\t1.13209\t2236.15\n",
      "88 \t395   \t168.409\t357.628\t1.12305\t3486.83\n",
      "89 \t388   \t133.528\t274.271\t1.11916\t2060.2 \n",
      "90 \t363   \t193.431\t384.449\t1.11916\t2635.69\n",
      "91 \t374   \t163.024\t319.331\t1.11811\t2448.97\n",
      "92 \t362   \t151.29 \t316.548\t1.11545\t2351.75\n",
      "93 \t380   \t151.386\t305.581\t1.11545\t1630.66\n",
      "94 \t375   \t170.127\t345.468\t1.11102\t2641.92\n",
      "95 \t350   \t169.461\t365.354\t1.10366\t3178.53\n",
      "96 \t366   \t153.531\t306.103\t1.10366\t2307.19\n",
      "97 \t383   \t145.236\t307.492\t1.10012\t2433.71\n",
      "98 \t374   \t148.433\t307.738\t1.09866\t2250.11\n",
      "99 \t395   \t171.813\t367.052\t1.09683\t4110.06\n",
      "100\t363   \t160.151\t372.332\t1.09059\t3825.14\n",
      "101\t379   \t158.66 \t311.962\t1.09059\t2200.74\n",
      "102\t361   \t149.113\t317.579\t1.08956\t2351.75\n",
      "103\t388   \t164.989\t338.298\t1.08728\t2136.75\n",
      "104\t376   \t166.769\t356.569\t1.08357\t2791.09\n",
      "105\t378   \t168.287\t326.963\t1.08361\t2861.36\n",
      "106\t368   \t152.409\t321.597\t1.07967\t2580.02\n",
      "107\t382   \t177.814\t384.036\t1.07967\t2933.57\n",
      "108\t382   \t177.963\t425.721\t1.07743\t3996.77\n",
      "109\t401   \t183.199\t397.315\t1.07598\t4691.54\n",
      "110\t338   \t144.791\t302.81 \t1.0755 \t2673.44\n",
      "111\t380   \t166.282\t364.466\t1.07457\t2986.69\n",
      "112\t368   \t140.788\t295.934\t1.07198\t2140.42\n",
      "113\t385   \t155.382\t348.023\t1.07096\t3160.54\n",
      "114\t354   \t141.354\t328.236\t1.06684\t2384.17\n",
      "115\t372   \t178.145\t370.414\t1.06482\t2570.45\n",
      "116\t376   \t137.061\t264.901\t1.06482\t1854.64\n",
      "117\t388   \t143.683\t285.895\t1.06134\t2089.36\n",
      "118\t368   \t174.075\t349.391\t1.05979\t2782.22\n",
      "119\t398   \t164.134\t331.47 \t1.05914\t2756.73\n",
      "120\t381   \t185.061\t392.331\t1.0578 \t2916.99\n",
      "121\t365   \t159.646\t371.015\t1.05327\t3713.17\n",
      "122\t394   \t149.992\t282.61 \t1.05327\t2169.72\n",
      "123\t377   \t166.574\t339.187\t1.04887\t2725.37\n",
      "124\t379   \t185.82 \t412.121\t1.04703\t4531.94\n",
      "125\t389   \t174.682\t380.67 \t1.04703\t3643.86\n",
      "126\t390   \t176.803\t349.657\t1.04526\t2613.72\n",
      "127\t377   \t156.357\t309.253\t1.04359\t2299.69\n",
      "128\t368   \t185.508\t389.065\t1.04349\t2950.89\n",
      "129\t385   \t151.41 \t292.874\t1.03846\t2173.83\n",
      "130\t373   \t179.213\t359.415\t1.03532\t3001.51\n",
      "131\t363   \t142.732\t307.228\t1.03532\t1979.53\n",
      "132\t388   \t201.352\t420.646\t1.03577\t3303.72\n",
      "133\t375   \t177.791\t374.845\t1.0348 \t2934.72\n",
      "134\t370   \t177.272\t433.266\t1.03286\t3845.14\n",
      "135\t375   \t166.243\t360.488\t1.03242\t3450.69\n",
      "136\t391   \t155.184\t315.951\t1.03054\t1992.43\n",
      "137\t364   \t176.858\t412.831\t1.02711\t3641.91\n",
      "138\t395   \t142.42 \t264.658\t1.02384\t1785.1 \n",
      "139\t363   \t181.781\t393.311\t1.02567\t3211.56\n",
      "140\t365   \t161.83 \t359.199\t1.02567\t3525.66\n",
      "141\t383   \t182.92 \t373.165\t1.02288\t2564.74\n",
      "142\t393   \t174.987\t362.687\t1.02205\t2932.11\n",
      "143\t375   \t170.585\t378.229\t1.02202\t3941.9 \n",
      "144\t377   \t180.414\t428.243\t1.02124\t5292.22\n",
      "145\t363   \t153.968\t377.418\t1.01898\t5299.35\n",
      "146\t366   \t173.87 \t352.124\t1.01847\t2153.44\n",
      "147\t364   \t164.644\t359.639\t1.01119\t2588.65\n",
      "148\t377   \t152.617\t307.591\t1.00899\t2501.6 \n",
      "149\t379   \t174.757\t360.839\t1.00894\t2656.4 \n",
      "150\t369   \t184.766\t366.803\t1.00899\t3624.92\n",
      "151\t370   \t164.336\t363.07 \t1.00644\t4339.59\n",
      "152\t373   \t173.272\t331.279\t1.00644\t1873.95\n",
      "153\t372   \t155.767\t355.381\t1.00628\t3056.12\n",
      "154\t358   \t140.392\t301.908\t1.00619\t1981.23\n",
      "155\t369   \t161.637\t354.244\t1.00551\t2926.45\n",
      "156\t381   \t190.592\t398.388\t1.00489\t3639.78\n",
      "157\t381   \t169.848\t357.292\t1.00408\t2888.18\n",
      "158\t375   \t150.831\t323.955\t1.00391\t2699.34\n",
      "159\t373   \t157.633\t349.734\t1.0027 \t2383.65\n",
      "160\t353   \t159.145\t408.379\t1.00228\t4173.84\n",
      "161\t371   \t176.063\t375.924\t1.00061\t2833.21\n",
      "162\t362   \t136.493\t305.546\t0.99908\t2364.68\n",
      "163\t384   \t179.893\t440.578\t0.998666\t5855.97\n",
      "164\t381   \t159.848\t345.989\t0.997694\t2590.23\n",
      "165\t365   \t174.832\t366.013\t0.996305\t2735.2 \n",
      "166\t374   \t168.533\t356.047\t0.995763\t2801.6 \n",
      "167\t375   \t153.421\t363.921\t0.992551\t2910.05\n",
      "168\t376   \t146.432\t297.888\t0.992732\t2257.42\n",
      "169\t376   \t173.504\t353.411\t0.992732\t2678.89\n",
      "170\t365   \t148.585\t310.073\t0.991746\t1995.42\n",
      "171\t365   \t151.258\t352.715\t0.988782\t3303.78\n",
      "172\t384   \t195.804\t417.552\t0.988619\t4258.83\n",
      "173\t369   \t165.195\t369.532\t0.988619\t3528.94\n",
      "174\t367   \t215.718\t453.716\t0.987583\t4100.84\n",
      "175\t382   \t166.706\t346.133\t0.984242\t2294.42\n",
      "176\t364   \t145.666\t291.623\t0.984242\t2452.58\n",
      "177\t389   \t170.368\t353.306\t0.984242\t2938.87\n",
      "178\t389   \t176.38 \t341.926\t0.981437\t2248.17\n",
      "179\t401   \t209.786\t386.805\t0.980857\t3294.98\n",
      "180\t383   \t165.459\t365.834\t0.979603\t3465.02\n",
      "181\t358   \t175.226\t378.73 \t0.977238\t3487.1 \n",
      "182\t369   \t165.354\t325    \t0.975825\t2360.79\n",
      "183\t373   \t159.912\t303.324\t0.974078\t2061.28\n",
      "184\t375   \t172.262\t372.368\t0.974547\t3039.44\n",
      "185\t372   \t192.905\t344.921\t0.971876\t2353.06\n",
      "186\t381   \t163.761\t343.529\t0.970196\t2456.72\n",
      "187\t365   \t161.107\t315.5  \t0.970196\t2850.31\n",
      "188\t360   \t166.211\t366.743\t0.967033\t2860.44\n",
      "189\t369   \t159.654\t362.332\t0.967033\t2527.13\n",
      "190\t373   \t155.836\t328.178\t0.96472 \t3510.99\n",
      "191\t377   \t158.673\t348.199\t0.96472 \t3187.38\n"
     ]
    },
    {
     "name": "stdout",
     "output_type": "stream",
     "text": [
      "192\t371   \t172.064\t354.515\t0.964705\t3186.82\n",
      "193\t353   \t186.535\t453.963\t0.961377\t5535.76\n",
      "194\t380   \t144.553\t304.543\t0.961377\t2537.64\n",
      "195\t360   \t161.838\t397.403\t0.959562\t3641.42\n",
      "196\t360   \t157.38 \t345.32 \t0.959135\t3085.09\n",
      "197\t376   \t183.511\t440.887\t0.957397\t4038.53\n",
      "198\t383   \t164.412\t328.24 \t0.957397\t2601.88\n",
      "199\t372   \t174.87 \t382.295\t0.955479\t2888.57\n",
      "200\t377   \t159.294\t326.842\t0.954382\t2383.87\n"
     ]
    }
   ],
   "source": [
    "result, logbook = algorithms.eaSimple(pop, \n",
    "                             toolbox, \n",
    "                             cxpb=0.5, \n",
    "                             mutpb=0.5, \n",
    "                             ngen=200, \n",
    "                             stats=stats, verbose=True)"
   ]
  },
  {
   "cell_type": "code",
   "execution_count": 110,
   "metadata": {},
   "outputs": [
    {
     "name": "stdout",
     "output_type": "stream",
     "text": [
      "('Current best fitness:', (0.95438222899542446,))\n"
     ]
    }
   ],
   "source": [
    "best = tools.selBest(pop, k=1)[0]\n",
    "print('Current best fitness:', evaluate(best))"
   ]
  },
  {
   "cell_type": "code",
   "execution_count": 111,
   "metadata": {},
   "outputs": [
    {
     "data": {
      "image/png": "[encoded data removed]",
      "text/plain": [
       "<matplotlib.figure.Figure at 0x7f22c5ccfd50>"
      ]
     },
     "metadata": {},
     "output_type": "display_data"
    }
   ],
   "source": [
    "mp.plot(m, best)\n",
    "mp.show()"
   ]
  },
  {
   "cell_type": "markdown",
   "metadata": {},
   "source": [
    "# Make a new avaliation of the direct method, using the evolve operator in the experimental data"
   ]
  },
  {
   "cell_type": "code",
   "execution_count": 95,
   "metadata": {
    "collapsed": true
   },
   "outputs": [],
   "source": [
    "num_pontos_m = 11\n",
    "A = np.identity(num_pontos_m)\n",
    "\n",
    "# the matriz At for time evolution has dependencie in time, so need to be remake for each time\n",
    "j = 0\n",
    "zj = dz*j + z0\n",
    "tzj = lcdmUniverser.dt_dz(zj)*delta_z\n",
    "m0 = 8.3\n",
    "\n",
    "\n",
    "while zj > 1.5:\n",
    "    At = np.zeros((num_pontos_m, num_pontos_m))\n",
    "    \n",
    "    lzj = L(zj)\n",
    "    for i in islice(count(), 1, num_pontos_m-1):\n",
    "        mi = dm*i + m0    \n",
    "        if i-1 >= 0:\n",
    "            At[i][i-1] = lzj*D*mmt(mi, tzj)\n",
    "        At[i][i] = 1 - dz*auxiliarV(mi, tzj, dm)*lzj\n",
    "\n",
    "    mi = dm*0 + m0\n",
    "    At[0][0] = 1 - dz*L(zj)*auxiliarV(mi, tzj, dm) + lzj*D*mmtm(mi, tzj)\n",
    "    mi = dm*(num_pontos_m-1) + m0\n",
    "    At[num_pontos_m-1][num_pontos_m-1] = 1 - dz*L(zj)*auxiliarV(mi, tzj, dm) + lzj*D*mmtm(mi, tzj)\n",
    "    \n",
    "    A = np.dot(A, At)\n",
    "    zj += dz\n",
    "    tzj += lcdmUniverser.dt_dz(zj)*delta_z"
   ]
  },
  {
   "cell_type": "code",
   "execution_count": 96,
   "metadata": {
    "collapsed": true
   },
   "outputs": [],
   "source": [
    "mbh_83_94_t12 = nbh_obs[12][6:17]\n",
    "mbh_83_94_t13 = (nbh_obs[13][6:17])"
   ]
  },
  {
   "cell_type": "code",
   "execution_count": 97,
   "metadata": {},
   "outputs": [
    {
     "data": {
      "text/plain": [
       "array([ 1230.76909852,  -418.22761216,  1029.81271423,    36.06586584,\n",
       "         433.02775572,   571.09704014,   312.04771434,   138.65358202,\n",
       "         432.45023275,    20.55861962,  1144.28206162])"
      ]
     },
     "execution_count": 97,
     "metadata": {},
     "output_type": "execute_result"
    }
   ],
   "source": [
    "A.dot(mbh_83_94_t13)"
   ]
  },
  {
   "cell_type": "code",
   "execution_count": 98,
   "metadata": {},
   "outputs": [
    {
     "name": "stdout",
     "output_type": "stream",
     "text": [
      "[ 4.04413565  2.27508418  2.09253067  0.90508983  0.27736801  0.7253687\n",
      "  0.14036442  0.44091298  0.68925872  0.89292386  6.02013535]\n"
     ]
    }
   ],
   "source": [
    "print(np.abs(mbh_83_94_t12-A.dot(mbh_83_94_t13))/mbh_83_94_t12)"
   ]
  },
  {
   "cell_type": "code",
   "execution_count": 70,
   "metadata": {},
   "outputs": [
    {
     "name": "stdout",
     "output_type": "stream",
     "text": [
      "[  45.88592272    9.16155551   67.19968207   19.52412792   32.37403656\n",
      "   76.03865356   54.69602909  100.13898267   62.81769162   66.93082191\n",
      "   93.63690416]\n"
     ]
    }
   ],
   "source": [
    "# error \n",
    "print(np.abs(mbh_83_94_t12-A.dot(mbh_83_94_t13)))"
   ]
  }
 ],
 "metadata": {
  "kernelspec": {
   "display_name": "Python 2",
   "language": "python",
   "name": "python2"
  },
  "language_info": {
   "codemirror_mode": {
    "name": "ipython",
    "version": 2
   },
   "file_extension": ".py",
   "mimetype": "text/x-python",
   "name": "python",
   "nbconvert_exporter": "python",
   "pygments_lexer": "ipython2",
   "version": "2.7.14"
  }
 },
 "nbformat": 4,
 "nbformat_minor": 2
}
