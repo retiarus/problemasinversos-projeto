{
 "cells": [
  {
   "cell_type": "code",
   "execution_count": 1,
   "metadata": {
    "collapsed": true
   },
   "outputs": [],
   "source": [
    "import numpy as np\n",
    "import pandas as pd\n",
    "import os\n",
    "import sys\n",
    "import matplotlib.pyplot as plt\n",
    "import seaborn\n",
    "\n",
    "from itertools import islice, count\n",
    "%matplotlib inline"
   ]
  },
  {
   "cell_type": "code",
   "execution_count": 2,
   "metadata": {},
   "outputs": [
    {
     "name": "stdout",
     "output_type": "stream",
     "text": [
      "lcdmlib not imported, using pure python version of sigma\n"
     ]
    }
   ],
   "source": [
    "import pycosmicstar.lcdmcosmology as lcdmcos"
   ]
  },
  {
   "cell_type": "code",
   "execution_count": 3,
   "metadata": {},
   "outputs": [],
   "source": [
    "# import objetive function\n",
    "import objectivefunction as of\n",
    "\n",
    "# import regularization module\n",
    "os.chdir(\"./optimization-regularization/regularization/\")\n",
    "import regularization as reg"
   ]
  },
  {
   "cell_type": "code",
   "execution_count": 4,
   "metadata": {
    "collapsed": true
   },
   "outputs": [],
   "source": [
    "# load lcdm model\n",
    "lcdmUniverser = lcdmcos.Lcdmcosmology(omegam=0.24,\n",
    "                              omegab=0.04, \n",
    "                              omegal=0.73,\n",
    "                               h=0.7)"
   ]
  },
  {
   "cell_type": "code",
   "execution_count": 5,
   "metadata": {
    "collapsed": true
   },
   "outputs": [],
   "source": [
    "delta_mbh = 0.1 # pass in m_bh\n",
    "delta_z = 0.1 # pass in z\n",
    "dz = -delta_z\n",
    "dm = delta_mbh\n",
    "D = dz/dm \n",
    "m0 = 7.7 # inicial mass\n",
    "mf = 9.6 # final mass\n",
    "z0 = 20.0 # inicial redshift\n",
    "zf = 0.3 # final redshift"
   ]
  },
  {
   "cell_type": "code",
   "execution_count": 6,
   "metadata": {
    "collapsed": true
   },
   "outputs": [],
   "source": [
    "# load csv with experimental data\n",
    "os.chdir(\"/home/peregrinus/Arquivos/cap/problemas-inversos/projeto\")\n",
    "df = pd.read_csv('mean_LBH.csv')"
   ]
  },
  {
   "cell_type": "code",
   "execution_count": 7,
   "metadata": {
    "collapsed": true
   },
   "outputs": [],
   "source": [
    "# find the number of points to z and m_bh to build the matrix of\n",
    "# mass distribution\n",
    "num_pontos_z = len(df.z.unique())\n",
    "num_pontos_m = len(df.massBH.unique())"
   ]
  },
  {
   "cell_type": "code",
   "execution_count": 8,
   "metadata": {},
   "outputs": [],
   "source": [
    "# preparer matrix nbh_obs\n",
    "nbh_obs = np.empty((num_pontos_m, num_pontos_z))\n",
    "nbh_obs.fill(np.nan)"
   ]
  },
  {
   "cell_type": "code",
   "execution_count": 9,
   "metadata": {
    "collapsed": true
   },
   "outputs": [],
   "source": [
    "# load data from csv to matrix\n",
    "for l in range(0, df.shape[0]):\n",
    "    i = int(np.around(df.z[l]*10.0, decimals=1) - 3.0)\n",
    "    j = int(np.around(df.massBH[l]*10.0, decimals=1) - 77.0)\n",
    "    nbh_obs[j][i] = df.nObjects[l]"
   ]
  },
  {
   "cell_type": "code",
   "execution_count": 10,
   "metadata": {
    "collapsed": true
   },
   "outputs": [],
   "source": [
    "class mbh_mean_dt(object):\n",
    "    \"\"\"\n",
    "    This class implement the average of the varitation of m_bh in relation to time\n",
    "    \"\"\"\n",
    "    def __init__(self, lb_mean_par, mbh_par, alpha_par, tau_par, eta, c = 3e8):\n",
    "        self.__const1 = (1/c**2.0)*((1-eta)/eta)\n",
    "        self.__lb_mean_par = lb_mean_par \n",
    "        self.__mbh_par = mbh_par \n",
    "        self.__alpha_par = alpha_par  \n",
    "        self.__tau_par = tau_par\n",
    "        \n",
    "    def __call__(self, mbh, tz):\n",
    "        return self.__const1 * self.__lb_mean_par * (mbh/self.__mbh_par)**self.__alpha_par * (self.__tau_par/tz) * np.exp(-tz/self.__tau_par)\n",
    "    \n",
    "    @property\n",
    "    def alpha_par(self):\n",
    "        return self.__alpha_par"
   ]
  },
  {
   "cell_type": "code",
   "execution_count": 11,
   "metadata": {
    "collapsed": true
   },
   "outputs": [],
   "source": [
    "class mbh_mean_dt_dm(object):\n",
    "    \"\"\"\n",
    "    This class implement the derivative in relation to m_bh for the class mbh_mean_dt\n",
    "    \"\"\"\n",
    "    def __init__(self, mbh_mean_dt):\n",
    "        self.__alpha_par = mbh_mean_dt.alpha_par\n",
    "        self.__mbh_mean_dt = mbh_mean_dt\n",
    "    \n",
    "    def __call__(self, mbh, tz):\n",
    "        return (self.__alpha_par/mbh) * self.__mbh_mean_dt(mbh, tz)"
   ]
  },
  {
   "cell_type": "code",
   "execution_count": 12,
   "metadata": {
    "collapsed": true
   },
   "outputs": [],
   "source": [
    "class V(object):\n",
    "    \"\"\"\n",
    "    \"\"\"\n",
    "    def __init__(self, mmt, mmtm):\n",
    "        self.__mmt = mmt\n",
    "        self.__mmtm = mmtm\n",
    "\n",
    "    def __call__(self, mbh, tz, dm):\n",
    "        return self.__mmtm(mbh, tz) + self.__mmt(mbh, tz)/dm"
   ]
  },
  {
   "cell_type": "code",
   "execution_count": 13,
   "metadata": {
    "collapsed": true
   },
   "outputs": [],
   "source": [
    "#        best fit         bias      error \n",
    "# lb_mean_par : 3.05e47 : 6.65e45  : 3.14e46\n",
    "# mbh_par     : 2.19e11 : 1.88e10  : 4.88e10\n",
    "# alpha_par   : 2.71e-1 : -1.29e-4 : 1.18e-2\n",
    "# tau_par     : 4.81e9  : 1.05e7   : 1.69e8\n",
    "\n",
    "# load the class defined above with values find by bootstrap regresssion from experimental\n",
    "# data\n",
    "\n",
    "mmt = mbh_mean_dt(3.05e7, 2.19e11, 2.71e-1, 4.81e9, 0.1)\n",
    "mmtm = mbh_mean_dt_dm(mmt)\n",
    "auxiliarV = V(mmt, mmtm)"
   ]
  },
  {
   "cell_type": "code",
   "execution_count": 14,
   "metadata": {
    "collapsed": true
   },
   "outputs": [],
   "source": [
    "# L is a representative function to dt/dz in z = zj\n",
    "L = lambda z: lcdmUniverser.dt_dz(z)"
   ]
  },
  {
   "cell_type": "code",
   "execution_count": 15,
   "metadata": {
    "collapsed": true
   },
   "outputs": [],
   "source": [
    "# A the operator of time evolution\n",
    "A = np.identity(num_pontos_m)\n",
    "\n",
    "# the matriz At for time evolution has dependencie in time, \n",
    "# so need to be remake for each time\n",
    "\n",
    "j = 0 # the index j represent time(redshift)\n",
    "zj = dz*j + z0 # the value of the redshift in pass j\n",
    "\n",
    "# the value of time to zj, consider the cosmologic model\n",
    "tzj = lcdmUniverser.dt_dz(zj)*delta_z \n",
    "\n",
    "while zj > 0.2:\n",
    "    At = np.zeros((num_pontos_m, num_pontos_m))\n",
    "    \n",
    "    lzj = L(zj)\n",
    "    for i in islice(count(), 1, num_pontos_m-1):\n",
    "        mi = dm*i + m0    \n",
    "        if i-1 >= 0:\n",
    "            At[i][i-1] = lzj*D*mmt(mi, tzj)\n",
    "        At[i][i] = 1 - dz*auxiliarV(mi, tzj, dm)*lzj\n",
    "\n",
    "    mi = dm*0 + m0\n",
    "    At[0][0] = 1 - dz*L(zj)*auxiliarV(mi, tzj, dm) + lzj*D*mmtm(mi, tzj)\n",
    "    mi = dm*(num_pontos_m-1) + m0\n",
    "    At[num_pontos_m-1][num_pontos_m-1] = 1 - dz*L(zj)*auxiliarV(mi, tzj, dm) + lzj*D*mmtm(mi, tzj)\n",
    "    \n",
    "    A = np.dot(A, At)\n",
    "    zj += dz\n",
    "    tzj += lcdmUniverser.dt_dz(zj)*delta_z"
   ]
  },
  {
   "cell_type": "code",
   "execution_count": 16,
   "metadata": {
    "collapsed": true
   },
   "outputs": [],
   "source": [
    "# define gaussian function as initial condition,\n",
    "# to avaliate the direct model\n",
    "def gaussian(x, mu, sig):\n",
    "    return np.exp(-np.power(x - mu, 2.) / (2 * np.power(sig, 2.)))"
   ]
  },
  {
   "cell_type": "code",
   "execution_count": 17,
   "metadata": {
    "collapsed": true
   },
   "outputs": [],
   "source": [
    "m = np.linspace(m0, mf, num_pontos_m)"
   ]
  },
  {
   "cell_type": "code",
   "execution_count": 18,
   "metadata": {
    "collapsed": true
   },
   "outputs": [],
   "source": [
    "# generate initial test condition to evolve in time\n",
    "test_initial_condition = gaussian(m, (m0+mf)/2., 1.)"
   ]
  },
  {
   "cell_type": "code",
   "execution_count": 19,
   "metadata": {},
   "outputs": [
    {
     "data": {
      "image/png": "[encoded data removed]",
      "text/plain": [
       "<matplotlib.figure.Figure at 0x7f1236c1c290>"
      ]
     },
     "metadata": {},
     "output_type": "display_data"
    }
   ],
   "source": [
    "from matplotlib import pyplot as mp\n",
    "mp.plot(m, test_initial_condition)\n",
    "mp.show()"
   ]
  },
  {
   "cell_type": "code",
   "execution_count": 20,
   "metadata": {},
   "outputs": [
    {
     "data": {
      "image/png": "[encoded data removed]",
      "text/plain": [
       "<matplotlib.figure.Figure at 0x7f1236bf3250>"
      ]
     },
     "metadata": {},
     "output_type": "display_data"
    }
   ],
   "source": [
    "# evolve the initial condition using the operator A,\n",
    "# for time evolution, and plot the same\n",
    "test_initial_condition_evolve = A.dot(test_initial_condition)\n",
    "mp.plot(m, test_initial_condition_evolve)\n",
    "mp.show()"
   ]
  },
  {
   "cell_type": "code",
   "execution_count": 21,
   "metadata": {},
   "outputs": [
    {
     "data": {
      "image/png": "[encoded data removed]",
      "text/plain": [
       "<matplotlib.figure.Figure at 0x7f1236b2b650>"
      ]
     },
     "metadata": {},
     "output_type": "display_data"
    }
   ],
   "source": [
    "# add noise to the evolve configuration\n",
    "sigma = 0.0\n",
    "np.random.seed(seed=1234)\n",
    "test_initial_condition_evolve += sigma*np.random.uniform(low=0.0, high=1.0, size=num_pontos_m)\n",
    "mp.plot(m, test_initial_condition_evolve)\n",
    "mp.show()"
   ]
  },
  {
   "cell_type": "code",
   "execution_count": 22,
   "metadata": {
    "collapsed": true
   },
   "outputs": [],
   "source": [
    "# load regularization, Tiknov order 0\n",
    "\n",
    "alpha = 0\n",
    "tik0 = reg.TikhonovOrder0(num_pontos_m)\n",
    "\n",
    "J = of.FuncJ(alpha, A.dot, tik0)\n",
    "Jmeasure = lambda f: J(f, test_initial_condition_evolve)\n",
    "\n",
    "def evaluate(individual):\n",
    "    return (Jmeasure(individual),)"
   ]
  },
  {
   "cell_type": "code",
   "execution_count": 23,
   "metadata": {
    "collapsed": true
   },
   "outputs": [],
   "source": [
    "from deap import algorithms\n",
    "from deap import base\n",
    "from deap import creator\n",
    "from deap import tools"
   ]
  },
  {
   "cell_type": "code",
   "execution_count": 24,
   "metadata": {
    "collapsed": true
   },
   "outputs": [],
   "source": [
    "creator.create(\"FitnessMin\", base.Fitness, weights=(-1.0,))\n",
    "creator.create(\"Individual\", np.ndarray, fitness=creator.FitnessMin)"
   ]
  },
  {
   "cell_type": "code",
   "execution_count": 25,
   "metadata": {
    "collapsed": true
   },
   "outputs": [],
   "source": [
    "toolbox = base.Toolbox()"
   ]
  },
  {
   "cell_type": "code",
   "execution_count": 26,
   "metadata": {
    "collapsed": true
   },
   "outputs": [],
   "source": [
    "np.random.seed(1234)\n",
    "toolbox.register(\"attr_float\", np.random.uniform, 0., 1.)\n",
    "toolbox.register(\"individual\", \n",
    "                 tools.initRepeat,\n",
    "                 creator.Individual,\n",
    "                 toolbox.attr_float,\n",
    "                 n=num_pontos_m)\n",
    "toolbox.register(\"population\", tools.initRepeat, list, toolbox.individual)"
   ]
  },
  {
   "cell_type": "code",
   "execution_count": 27,
   "metadata": {
    "collapsed": true
   },
   "outputs": [],
   "source": [
    "toolbox.register(\"evaluate\", evaluate)\n",
    "toolbox.register(\"mate\", tools.cxBlend, alpha=0.5)\n",
    "toolbox.register(\"mutate\", tools.mutGaussian, mu=0, sigma=1, indpb=0.2)\n",
    "toolbox.register(\"select\", tools.selTournament, tournsize=6)"
   ]
  },
  {
   "cell_type": "code",
   "execution_count": 28,
   "metadata": {
    "collapsed": true
   },
   "outputs": [],
   "source": [
    "pop = toolbox.population(n=500)"
   ]
  },
  {
   "cell_type": "code",
   "execution_count": 29,
   "metadata": {
    "collapsed": true
   },
   "outputs": [],
   "source": [
    "stats = tools.Statistics(key=lambda ind: ind.fitness.values)\n",
    "stats.register(\"avg\", np.mean)\n",
    "stats.register(\"std\", np.std)\n",
    "stats.register(\"min\", np.min)\n",
    "stats.register(\"max\", np.max)\n",
    "\n",
    "#logbook = tools.Logbook()\n",
    "#logbook.record(gen=0, evals=30, **record)"
   ]
  },
  {
   "cell_type": "code",
   "execution_count": 30,
   "metadata": {},
   "outputs": [
    {
     "name": "stdout",
     "output_type": "stream",
     "text": [
      "gen\tnevals\tavg    \tstd    \tmin    \tmax    \n",
      "0  \t500   \t320.722\t166.366\t63.3115\t971.109\n",
      "1  \t392   \t596.229\t682.198\t55.9777\t4716.7 \n",
      "2  \t374   \t579.615\t696.005\t58.2574\t4997.49\n",
      "3  \t384   \t573.074\t678.647\t39.8037\t4678.8 \n",
      "4  \t374   \t520.219\t646.394\t39.8037\t5372.53\n",
      "5  \t359   \t532.862\t645.275\t33.7652\t4721.17\n",
      "6  \t371   \t462.212\t604.022\t33.7652\t4299.63\n",
      "7  \t375   \t509.593\t664.931\t33.7652\t5137.73\n",
      "8  \t386   \t472.097\t643.792\t29.926 \t4320.85\n",
      "9  \t355   \t477.215\t687.214\t22.776 \t4678.17\n",
      "10 \t378   \t497.45 \t715.942\t21.7241\t5621.01\n",
      "11 \t371   \t438.18 \t588.454\t21.7241\t3740.49\n",
      "12 \t362   \t503.612\t745.652\t21.7241\t4788.77\n",
      "13 \t391   \t453.491\t657.253\t18.2732\t4470.11\n",
      "14 \t371   \t477.779\t746.135\t17.4022\t4583.37\n",
      "15 \t371   \t462.899\t644.462\t17.4022\t4862.77\n",
      "16 \t372   \t480.25 \t702.382\t13.4097\t4403.49\n",
      "17 \t389   \t525.426\t816.78 \t13.4097\t6313.47\n",
      "18 \t362   \t395.523\t669.487\t12.8409\t6778.99\n",
      "19 \t378   \t395.691\t677.981\t12.8409\t4652.19\n",
      "20 \t394   \t426.013\t591.965\t12.8409\t3814.59\n",
      "21 \t370   \t419.355\t627.399\t11.9332\t4454.5 \n",
      "22 \t364   \t447.021\t714.103\t11.9332\t5564.92\n",
      "23 \t399   \t486.964\t740.15 \t9.95438\t5109.27\n",
      "24 \t383   \t435.825\t678.381\t10.4748\t4887.59\n",
      "25 \t352   \t446.308\t754.987\t9.12103\t5401.22\n",
      "26 \t376   \t440.289\t664.273\t8.78656\t3803.74\n",
      "27 \t363   \t473.75 \t743.202\t7.09303\t3989.24\n",
      "28 \t378   \t420.627\t668.764\t8.35791\t5251.88\n",
      "29 \t361   \t413.355\t672.555\t7.30517\t3564.67\n",
      "30 \t387   \t431.537\t687.509\t6.69006\t4962.2 \n",
      "31 \t382   \t426.796\t719.961\t5.6359 \t4418.84\n",
      "32 \t379   \t402.108\t638.675\t5.6359 \t3751.92\n",
      "33 \t381   \t381.094\t593.943\t5.6359 \t3433.36\n",
      "34 \t355   \t380.032\t664.661\t5.6359 \t4474.61\n",
      "35 \t368   \t363.334\t610.117\t5.37746\t3368.32\n",
      "36 \t378   \t408.748\t694.101\t5.25605\t6706   \n",
      "37 \t369   \t398.846\t625.709\t4.95775\t3674.11\n",
      "38 \t366   \t403.202\t691.895\t4.78918\t4626.71\n",
      "39 \t370   \t412.548\t687.668\t4.79685\t5084.27\n",
      "40 \t376   \t383.425\t645.395\t4.79685\t3756.57\n",
      "41 \t374   \t379.796\t631.892\t4.73836\t4505.38\n",
      "42 \t405   \t412.467\t637.739\t4.61792\t5373.38\n",
      "43 \t360   \t417.729\t670.25 \t4.62748\t3982.36\n",
      "44 \t383   \t340.612\t567.717\t4.59414\t2886.58\n",
      "45 \t379   \t369.321\t645.18 \t4.56505\t6235.39\n",
      "46 \t370   \t381.597\t598.433\t4.53375\t4505.79\n",
      "47 \t384   \t389.066\t632.866\t4.50151\t4939.9 \n",
      "48 \t375   \t356.486\t653.159\t4.50151\t4144.4 \n",
      "49 \t374   \t372.824\t716.496\t4.43447\t6526.05\n",
      "50 \t386   \t354.714\t566.321\t4.43724\t2976.14\n",
      "51 \t365   \t425.274\t707.593\t4.41527\t4354.77\n",
      "52 \t387   \t363.75 \t730.776\t4.37238\t5794.03\n",
      "53 \t354   \t344.865\t621.538\t4.32418\t4635.42\n",
      "54 \t359   \t410.963\t667.693\t4.3113 \t4440.55\n",
      "55 \t384   \t399.645\t747.779\t4.3098 \t8055.8 \n",
      "56 \t369   \t387.699\t697.054\t4.29494\t6155.82\n",
      "57 \t372   \t387.917\t647.314\t4.25252\t4447.72\n",
      "58 \t384   \t461.443\t715.142\t4.19171\t5073.9 \n",
      "59 \t399   \t395.985\t638.992\t4.19171\t4612.54\n",
      "60 \t387   \t402.296\t686.594\t4.19171\t4782.56\n",
      "61 \t378   \t363.176\t605.876\t4.13368\t3698.87\n",
      "62 \t364   \t391.628\t665.983\t4.13368\t5030.01\n",
      "63 \t371   \t390.393\t674.314\t4.13135\t4744.81\n",
      "64 \t382   \t388.109\t603.649\t4.08931\t3819.76\n",
      "65 \t371   \t433.795\t702.532\t4.07648\t5503.94\n",
      "66 \t381   \t399.798\t666.122\t4.06152\t4560.09\n",
      "67 \t373   \t364.638\t581.857\t4.03837\t3665.3 \n",
      "68 \t385   \t357.711\t626.524\t4.02565\t4612.03\n",
      "69 \t367   \t426.019\t717.572\t3.98787\t6555.02\n",
      "70 \t383   \t424.901\t773.534\t3.9564 \t5579.84\n",
      "71 \t377   \t401.223\t659.854\t3.88596\t4625.02\n",
      "72 \t368   \t376.7  \t620.446\t3.87247\t3725.18\n",
      "73 \t377   \t388.82 \t628.055\t3.83383\t3801   \n",
      "74 \t376   \t414.881\t659.381\t3.82587\t4919.43\n",
      "75 \t381   \t354.803\t611.306\t3.76274\t3857.89\n",
      "76 \t379   \t413.508\t782.515\t3.7588 \t5701.68\n",
      "77 \t387   \t438.153\t703.851\t3.76047\t5756.79\n",
      "78 \t393   \t418.146\t681.07 \t3.72247\t6069.94\n",
      "79 \t381   \t383.984\t645.278\t3.72774\t4388.04\n",
      "80 \t396   \t437.292\t731.634\t3.69099\t6740.53\n",
      "81 \t382   \t388.415\t644.489\t3.69376\t5050.55\n",
      "82 \t379   \t465.303\t728.598\t3.66553\t3670.51\n",
      "83 \t364   \t355.526\t608.313\t3.65607\t4155.18\n",
      "84 \t351   \t376.151\t648.942\t3.61553\t4336.37\n",
      "85 \t362   \t431.936\t749.648\t3.61553\t5318.51\n",
      "86 \t362   \t383.318\t656.475\t3.58599\t4289.04\n",
      "87 \t377   \t396.243\t642.715\t3.58461\t5387.49\n",
      "88 \t351   \t400.58 \t692.905\t3.58026\t5003.84\n",
      "89 \t386   \t361.476\t581.588\t3.54547\t3981.24\n",
      "90 \t388   \t463.118\t732.955\t3.53766\t5279.59\n",
      "91 \t367   \t421.691\t672.863\t3.52079\t5233.68\n",
      "92 \t384   \t401.74 \t627.236\t3.51368\t3443.68\n",
      "93 \t392   \t423.95 \t678.886\t3.5026 \t4598.35\n",
      "94 \t380   \t394.169\t658.003\t3.4571 \t4035.49\n",
      "95 \t390   \t478.491\t735.012\t3.4571 \t4970.24\n",
      "96 \t358   \t408.85 \t657.379\t3.44742\t3164.59\n",
      "97 \t376   \t423.909\t761.45 \t3.43732\t6096.63\n",
      "98 \t387   \t449.545\t782.684\t3.40938\t4583.38\n",
      "99 \t379   \t405.354\t655.035\t3.40938\t4692.89\n",
      "100\t395   \t382.185\t633.372\t3.40938\t4590.89\n",
      "101\t397   \t364.303\t590.41 \t3.37442\t3651.4 \n",
      "102\t365   \t350.542\t647.572\t3.37653\t5034.47\n",
      "103\t373   \t419.493\t657.935\t3.36907\t4327.06\n",
      "104\t364   \t374.412\t628.712\t3.36619\t4254.46\n",
      "105\t390   \t410.275\t734.93 \t3.34613\t5384.5 \n",
      "106\t364   \t434.598\t707.467\t3.32473\t4519   \n",
      "107\t394   \t334.287\t541.315\t3.31551\t3279.11\n",
      "108\t374   \t373.169\t638.229\t3.31551\t6663.65\n",
      "109\t368   \t399.082\t610.787\t3.28886\t3212.84\n",
      "110\t379   \t396.471\t641.616\t3.29139\t5254.59\n",
      "111\t390   \t424.923\t754.708\t3.28275\t7364.86\n",
      "112\t354   \t387.532\t660.664\t3.27536\t3949.52\n",
      "113\t373   \t415.55 \t734.452\t3.26081\t5337.35\n",
      "114\t366   \t391.337\t679.489\t3.2462 \t5439.52\n",
      "115\t364   \t353.007\t606.689\t3.22852\t3705.07\n",
      "116\t378   \t384.349\t646.16 \t3.22852\t4549.87\n",
      "117\t376   \t403.25 \t681.319\t3.20997\t5293.15\n",
      "118\t358   \t402.199\t772.464\t3.20997\t9995.65\n",
      "119\t374   \t406.305\t700.15 \t3.20888\t6266.72\n",
      "120\t377   \t392.621\t644.095\t3.20355\t4136.83\n",
      "121\t364   \t358.302\t657.894\t3.1909 \t4689.75\n",
      "122\t377   \t403.974\t644.044\t3.1909 \t4294.38\n",
      "123\t366   \t415.803\t693.551\t3.16198\t5080.65\n",
      "124\t379   \t348.652\t644.703\t3.15945\t8171.49\n",
      "125\t382   \t431.528\t799.122\t3.14338\t4803.54\n",
      "126\t386   \t417.8  \t697.636\t3.14373\t5298.5 \n",
      "127\t363   \t404.229\t681.034\t3.14164\t5279.6 \n",
      "128\t372   \t437.725\t715.988\t3.13941\t5637.62\n",
      "129\t365   \t370.016\t603.897\t3.12117\t3784.37\n",
      "130\t370   \t360.584\t634.419\t3.12117\t5132.6 \n",
      "131\t377   \t397.785\t681.115\t3.11117\t4233.84\n",
      "132\t372   \t404.971\t693.352\t3.10309\t4255   \n",
      "133\t376   \t376.921\t639.97 \t3.09563\t6447.07\n",
      "134\t382   \t370.372\t676.53 \t3.08429\t4094.39\n",
      "135\t377   \t394.241\t697.571\t3.07698\t4595.12\n",
      "136\t371   \t393.113\t720.151\t3.07698\t6544.69\n",
      "137\t365   \t413.439\t742.956\t3.07119\t7123.38\n",
      "138\t377   \t362.154\t636.806\t3.06423\t4292.1 \n",
      "139\t347   \t363.227\t615.582\t3.04645\t4229.8 \n",
      "140\t390   \t441.037\t770.443\t3.05073\t8383.67\n",
      "141\t407   \t415.621\t648.756\t3.02909\t4136.98\n",
      "142\t365   \t388.292\t639.942\t3.02637\t4857.46\n",
      "143\t377   \t411.957\t722.333\t3.02295\t5345.58\n",
      "144\t371   \t368.851\t625.906\t3.01014\t4598.41\n",
      "145\t379   \t417.624\t647.036\t3.01014\t4489.06\n",
      "146\t397   \t456.599\t705.174\t3.00289\t4773.11\n",
      "147\t380   \t434.77 \t697.67 \t2.99619\t4569.78\n",
      "148\t363   \t395.334\t654.365\t2.98981\t4373.34\n",
      "149\t375   \t353.655\t619.663\t2.97742\t4522.09\n",
      "150\t366   \t374.202\t598.04 \t2.97652\t4276.74\n",
      "151\t366   \t428.838\t708.226\t2.97441\t4768.54\n",
      "152\t357   \t389.689\t649.979\t2.96737\t4396.85\n",
      "153\t385   \t395.244\t652.402\t2.96174\t4062.88\n",
      "154\t371   \t417.714\t698.8  \t2.95718\t5138.21\n",
      "155\t389   \t435.699\t741.937\t2.95094\t7025.86\n",
      "156\t353   \t353.483\t622.703\t2.9447 \t5782.67\n",
      "157\t384   \t438.088\t727.113\t2.94657\t3926.37\n",
      "158\t371   \t395.364\t642.825\t2.93941\t4948.21\n",
      "159\t384   \t347.678\t593.678\t2.94029\t5689.89\n",
      "160\t392   \t410.828\t673.83 \t2.93016\t4587.82\n",
      "161\t383   \t375.43 \t586.94 \t2.93016\t3424.82\n",
      "162\t388   \t447.745\t702.673\t2.92214\t5010.2 \n",
      "163\t376   \t345.741\t568.496\t2.91471\t3949.23\n",
      "164\t386   \t418.517\t681.901\t2.9099 \t4688.53\n",
      "165\t363   \t340.432\t608.912\t2.90519\t5072.63\n",
      "166\t378   \t410.96 \t707.104\t2.8945 \t5225.19\n",
      "167\t381   \t389.191\t666.081\t2.8945 \t4872.69\n",
      "168\t381   \t421.718\t652.682\t2.88624\t5285.83\n",
      "169\t368   \t391.582\t693.435\t2.88624\t4862.78\n",
      "170\t385   \t398.609\t658.063\t2.8818 \t4292.21\n",
      "171\t362   \t376.805\t610.419\t2.87825\t3847.51\n",
      "172\t365   \t382.244\t616.607\t2.87388\t4309.58\n",
      "173\t365   \t378.576\t636.677\t2.87027\t4719.23\n",
      "174\t399   \t361.707\t562.212\t2.86339\t3498.08\n",
      "175\t374   \t452.731\t799.72 \t2.86296\t6836.96\n",
      "176\t384   \t378.491\t663.435\t2.85509\t6998.37\n",
      "177\t397   \t372.769\t656.547\t2.85509\t4241.35\n",
      "178\t385   \t424.481\t772.27 \t2.84393\t5685.97\n",
      "179\t370   \t421.594\t695.006\t2.83942\t4835.38\n",
      "180\t369   \t426.232\t708.389\t2.83979\t5054.64\n",
      "181\t374   \t399.911\t688.358\t2.83387\t6953.15\n",
      "182\t362   \t356.935\t624.864\t2.82579\t4104.64\n",
      "183\t391   \t403.396\t628.533\t2.82514\t3936.82\n",
      "184\t373   \t377.873\t655.947\t2.81665\t3633.85\n",
      "185\t382   \t422.054\t682.38 \t2.80972\t3947.86\n",
      "186\t378   \t368.677\t629.892\t2.80722\t4635.3 \n",
      "187\t395   \t455.338\t742.767\t2.80277\t5426.79\n",
      "188\t387   \t384.249\t617.059\t2.79973\t3791.26\n",
      "189\t370   \t394.283\t676.146\t2.79622\t4297.14\n",
      "190\t382   \t437.815\t712.407\t2.78826\t5708.69\n",
      "191\t388   \t364.449\t600.866\t2.77597\t3474.81\n",
      "192\t367   \t384.025\t682.165\t2.77597\t4564.26\n"
     ]
    },
    {
     "name": "stdout",
     "output_type": "stream",
     "text": [
      "193\t379   \t430.088\t708.747\t2.77109\t6314.26\n",
      "194\t384   \t448.651\t683.825\t2.77109\t5526.33\n",
      "195\t383   \t348.322\t599.875\t2.76685\t3960.07\n",
      "196\t378   \t416.825\t608.479\t2.75903\t3440.32\n",
      "197\t374   \t365.9  \t594.848\t2.75477\t3278.2 \n",
      "198\t368   \t402.359\t689.803\t2.74683\t7157.4 \n",
      "199\t377   \t372.896\t658.353\t2.75064\t4488.46\n",
      "200\t359   \t347.815\t584.757\t2.74918\t3767.24\n"
     ]
    }
   ],
   "source": [
    "result, logbook = algorithms.eaSimple(pop, \n",
    "                             toolbox, \n",
    "                             cxpb=0.5, \n",
    "                             mutpb=0.5, \n",
    "                             ngen=200, \n",
    "                             stats=stats, verbose=True)"
   ]
  },
  {
   "cell_type": "code",
   "execution_count": 31,
   "metadata": {},
   "outputs": [
    {
     "name": "stdout",
     "output_type": "stream",
     "text": [
      "('Current best fitness:', (2.7491828425824654,))\n"
     ]
    }
   ],
   "source": [
    "best = tools.selBest(pop, k=1)[0]\n",
    "print('Current best fitness:', evaluate(best))"
   ]
  },
  {
   "cell_type": "code",
   "execution_count": 32,
   "metadata": {},
   "outputs": [
    {
     "data": {
      "image/png": "[encoded data removed]",
      "text/plain": [
       "<matplotlib.figure.Figure at 0x7f1236a6d150>"
      ]
     },
     "metadata": {},
     "output_type": "display_data"
    }
   ],
   "source": [
    "mp.plot(m, best)\n",
    "mp.show()"
   ]
  },
  {
   "cell_type": "markdown",
   "metadata": {},
   "source": [
    "# Make a new avaliation of the direct method, using the evolve operator in the experimental data"
   ]
  },
  {
   "cell_type": "code",
   "execution_count": 33,
   "metadata": {
    "collapsed": true
   },
   "outputs": [],
   "source": [
    "num_pontos_m = 11\n",
    "A = np.identity(num_pontos_m)\n",
    "\n",
    "# the matriz At for time evolution has dependencie in time, so need to be remake for each time\n",
    "j = 0\n",
    "zj = dz*j + z0\n",
    "tzj = lcdmUniverser.dt_dz(zj)*delta_z\n",
    "m0 = 8.3\n",
    "\n",
    "\n",
    "while zj > 1.5:\n",
    "    At = np.zeros((num_pontos_m, num_pontos_m))\n",
    "    \n",
    "    lzj = L(zj)\n",
    "    for i in islice(count(), 1, num_pontos_m-1):\n",
    "        mi = dm*i + m0    \n",
    "        if i-1 >= 0:\n",
    "            At[i][i-1] = lzj*D*mmt(mi, tzj)\n",
    "        At[i][i] = 1 - dz*auxiliarV(mi, tzj, dm)*lzj\n",
    "\n",
    "    mi = dm*0 + m0\n",
    "    At[0][0] = 1 - dz*L(zj)*auxiliarV(mi, tzj, dm) + lzj*D*mmtm(mi, tzj)\n",
    "    mi = dm*(num_pontos_m-1) + m0\n",
    "    At[num_pontos_m-1][num_pontos_m-1] = 1 - dz*L(zj)*auxiliarV(mi, tzj, dm) + lzj*D*mmtm(mi, tzj)\n",
    "    \n",
    "    A = np.dot(A, At)\n",
    "    zj += dz\n",
    "    tzj += lcdmUniverser.dt_dz(zj)*delta_z"
   ]
  },
  {
   "cell_type": "code",
   "execution_count": 34,
   "metadata": {
    "collapsed": true
   },
   "outputs": [],
   "source": [
    "mbh_83_94_t12 = nbh_obs[12][6:17]\n",
    "mbh_83_94_t13 = (nbh_obs[13][6:17])"
   ]
  },
  {
   "cell_type": "code",
   "execution_count": 35,
   "metadata": {},
   "outputs": [
    {
     "data": {
      "text/plain": [
       "array([ 1230.76909852,  -418.22761216,  1029.81271423,    36.06586584,\n",
       "         433.02775572,   571.09704014,   312.04771434,   138.65358202,\n",
       "         432.45023275,    20.55861962,  1144.28206162])"
      ]
     },
     "execution_count": 35,
     "metadata": {},
     "output_type": "execute_result"
    }
   ],
   "source": [
    "A.dot(mbh_83_94_t13)"
   ]
  },
  {
   "cell_type": "code",
   "execution_count": 36,
   "metadata": {},
   "outputs": [
    {
     "name": "stdout",
     "output_type": "stream",
     "text": [
      "[ 4.04413565  2.27508418  2.09253067  0.90508983  0.27736801  0.7253687\n",
      "  0.14036442  0.44091298  0.68925872  0.89292386  6.02013535]\n"
     ]
    }
   ],
   "source": [
    "print(np.abs(mbh_83_94_t12-A.dot(mbh_83_94_t13))/mbh_83_94_t12)"
   ]
  },
  {
   "cell_type": "code",
   "execution_count": 37,
   "metadata": {},
   "outputs": [
    {
     "name": "stdout",
     "output_type": "stream",
     "text": [
      "[ 986.76909852  746.22761216  696.81271423  343.93413416   94.02775572\n",
      "  240.09704014   50.95228566  109.34641798  176.45023275  171.44138038\n",
      "  981.28206162]\n"
     ]
    }
   ],
   "source": [
    "# error \n",
    "print(np.abs(mbh_83_94_t12-A.dot(mbh_83_94_t13)))"
   ]
  },
  {
   "cell_type": "code",
   "execution_count": null,
   "metadata": {
    "collapsed": true
   },
   "outputs": [],
   "source": []
  }
 ],
 "metadata": {
  "kernelspec": {
   "display_name": "Python 2",
   "language": "python",
   "name": "python2"
  },
  "language_info": {
   "codemirror_mode": {
    "name": "ipython",
    "version": 2
   },
   "file_extension": ".py",
   "mimetype": "text/x-python",
   "name": "python",
   "nbconvert_exporter": "python",
   "pygments_lexer": "ipython2",
   "version": "2.7.14"
  }
 },
 "nbformat": 4,
 "nbformat_minor": 2
}
