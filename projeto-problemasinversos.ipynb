{
 "cells": [
  {
   "cell_type": "code",
   "execution_count": 1,
   "metadata": {
    "collapsed": true
   },
   "outputs": [],
   "source": [
    "import numpy as np\n",
    "import pandas as pd\n",
    "import os\n",
    "import sys\n",
    "import matplotlib.pyplot as plt\n",
    "import seaborn\n",
    "\n",
    "from itertools import islice, count\n",
    "%matplotlib inline"
   ]
  },
  {
   "cell_type": "code",
   "execution_count": 2,
   "metadata": {},
   "outputs": [
    {
     "name": "stdout",
     "output_type": "stream",
     "text": [
      "lcdmlib not imported, using pure python version of sigma\n"
     ]
    }
   ],
   "source": [
    "import pycosmicstar.lcdmcosmology as lcdmcos"
   ]
  },
  {
   "cell_type": "code",
   "execution_count": 3,
   "metadata": {},
   "outputs": [],
   "source": [
    "os.chdir(\"./optimization-regularization/regularization/\")\n",
    "import regularization as reg"
   ]
  },
  {
   "cell_type": "code",
   "execution_count": 4,
   "metadata": {
    "collapsed": true
   },
   "outputs": [],
   "source": [
    "lcdmUniverser = lcdmcos.Lcdmcosmology(omegam=0.24,\n",
    "                              omegab=0.04, \n",
    "                              omegal=0.73,\n",
    "                               h=0.7)"
   ]
  },
  {
   "cell_type": "code",
   "execution_count": 5,
   "metadata": {
    "collapsed": true
   },
   "outputs": [],
   "source": [
    "delta_mbh = 0.1\n",
    "delta_z = 0.1\n",
    "dz = -delta_z\n",
    "dm = delta_mbh\n",
    "D = dz/dm\n",
    "m0 = 7.7\n",
    "mf = 9.6\n",
    "z0 = 20.0\n",
    "zf = 0.3"
   ]
  },
  {
   "cell_type": "code",
   "execution_count": 6,
   "metadata": {},
   "outputs": [],
   "source": [
    "os.chdir(\"/home/peregrinus/Arquivos/cap/problemas-inversos/projeto\")\n",
    "df = pd.read_csv('mean_LBH.csv')"
   ]
  },
  {
   "cell_type": "code",
   "execution_count": 7,
   "metadata": {
    "collapsed": true
   },
   "outputs": [],
   "source": [
    "num_pontos_z = len(df.z.unique())\n",
    "num_pontos_m = len(df.massBH.unique())"
   ]
  },
  {
   "cell_type": "code",
   "execution_count": 8,
   "metadata": {
    "collapsed": true
   },
   "outputs": [],
   "source": [
    "nbh_obs = np.empty((len(df['massBH'].unique()), len(df['z'].unique())))\n",
    "nbh_obs.fill(np.nan)"
   ]
  },
  {
   "cell_type": "code",
   "execution_count": 9,
   "metadata": {
    "collapsed": true
   },
   "outputs": [],
   "source": [
    "for l in range(0, df.shape[0]):\n",
    "    i = int(np.around(df.z[l]*10.0, decimals=1) - 3.0)\n",
    "    j = int(np.around(df.massBH[l]*10.0, decimals=1) - 77.0)\n",
    "    nbh_obs[j][i] = df.nObjects[l]/(delta_mbh*delta_z*(lcdmUniverser.dV_dz(df.zmax[l])-lcdmUniverser.dV_dz(df.z[l])))"
   ]
  },
  {
   "cell_type": "code",
   "execution_count": 10,
   "metadata": {
    "collapsed": true
   },
   "outputs": [],
   "source": [
    "class mbh_mean_dt(object):\n",
    "    def __init__(self, lb_mean_par, mbh_par, alpha_par, tau_par, eta, c = 3e8):\n",
    "        self.__const1 = (1/c**2.0)*((1-eta)/eta)\n",
    "        self.__lb_mean_par = lb_mean_par \n",
    "        self.__mbh_par = mbh_par \n",
    "        self.__alpha_par = alpha_par  \n",
    "        self.__tau_par = tau_par\n",
    "        \n",
    "    def __call__(self, mbh, tz):\n",
    "        return self.__const1 * self.__lb_mean_par * (mbh/self.__mbh_par)**self.__alpha_par * (self.__tau_par/tz) * np.exp(-tz/self.__tau_par)\n",
    "    \n",
    "    @property\n",
    "    def alpha_par(self):\n",
    "        return self.__alpha_par"
   ]
  },
  {
   "cell_type": "code",
   "execution_count": 11,
   "metadata": {
    "collapsed": true
   },
   "outputs": [],
   "source": [
    "class mbh_mean_dt_dm(object):\n",
    "    def __init__(self, mbh_mean_dt):\n",
    "        self.__alpha_par = mbh_mean_dt.alpha_par\n",
    "        self.__mbh_mean_dt = mbh_mean_dt\n",
    "    \n",
    "    def __call__(self, mbh, tz):\n",
    "        return (self.__alpha_par/mbh) * self.__mbh_mean_dt(mbh, tz)"
   ]
  },
  {
   "cell_type": "code",
   "execution_count": 12,
   "metadata": {
    "collapsed": true
   },
   "outputs": [],
   "source": [
    "class V(object):\n",
    "    def __init__(self, mmt, mmtm):\n",
    "        self.__mmt = mmt\n",
    "        self.__mmtm = mmtm\n",
    "\n",
    "    def __call__(self, mbh, tz, dm):\n",
    "        return self.__mmtm(mbh, tz) - self.__mmt(mbh, tz)/dm"
   ]
  },
  {
   "cell_type": "code",
   "execution_count": 13,
   "metadata": {
    "collapsed": true
   },
   "outputs": [],
   "source": [
    "class V(object):\n",
    "    def __init__(self, mmt, mmtm):\n",
    "        self.__mmt = mmt\n",
    "        self.__mmtm = mmtm\n",
    "\n",
    "    def __call__(self, mbh, tz, dm):\n",
    "        return self.__mmtm(mbh, tz) + self.__mmt(mbh, tz)/dm"
   ]
  },
  {
   "cell_type": "code",
   "execution_count": 14,
   "metadata": {
    "collapsed": true
   },
   "outputs": [],
   "source": [
    "#        best fit         bias      error \n",
    "# lb_mean_par : 3.05e47 : 6.65e45  : 3.14e46\n",
    "# mbh_par     : 2.19e11 : 1.88e10  : 4.88e10\n",
    "# alpha_par   : 2.71e-1 : -1.29e-4 : 1.18e-2\n",
    "# tau_par     : 4.81e9  : 1.05e7   : 1.69e8\n",
    "\n",
    "mmt = mbh_mean_dt(3.05e7, 2.19e11, 2.71e-1, 4.81e9, 0.5)\n",
    "mmtm = mbh_mean_dt_dm(mmt)\n",
    "auxiliarV = V(mmt, mmtm)"
   ]
  },
  {
   "cell_type": "code",
   "execution_count": 15,
   "metadata": {
    "collapsed": true
   },
   "outputs": [],
   "source": [
    "# L is a representative function to dt/dz in z = zj\n",
    "L = lambda z: lcdmUniverser.dt_dz(z)"
   ]
  },
  {
   "cell_type": "code",
   "execution_count": 16,
   "metadata": {},
   "outputs": [],
   "source": [
    "A = np.identity(num_pontos_m)\n",
    "\n",
    "# the matriz At for time evolution has dependencie in time, so need to be remake for each time\n",
    "j = 0\n",
    "zj = dz*j + z0\n",
    "tzj = lcdmUniverser.dt_dz(zj)*delta_z\n",
    "\n",
    "while zj > 0.2:\n",
    "    At = np.zeros((num_pontos_m, num_pontos_m))\n",
    "    \n",
    "    lzj = L(zj)\n",
    "    for i in islice(count(), 1, num_pontos_m-1):\n",
    "        mi = dm*i + m0    \n",
    "        if i-1 >= 0:\n",
    "            At[i][i-1] = lzj*D*mmt(mi, tzj)\n",
    "        At[i][i] = 1 - dz*auxiliarV(mi, tzj, dm)*lzj\n",
    "\n",
    "    mi = dm*0 + m0\n",
    "    At[0][0] = 1 - dz*L(zj)*auxiliarV(mi, tzj, dm) + lzj*D*mmtm(mi, tzj)\n",
    "    mi = dm*(num_pontos_m-1) + m0\n",
    "    At[num_pontos_m-1][num_pontos_m-1] = 1 - dz*L(zj)*auxiliarV(mi, tzj, dm) + lzj*D*mmtm(mi, tzj)\n",
    "    \n",
    "    A = np.dot(A, At)\n",
    "    zj += dz\n",
    "    tzj += lcdmUniverser.dt_dz(zj)*delta_z"
   ]
  },
  {
   "cell_type": "code",
   "execution_count": 17,
   "metadata": {
    "collapsed": true
   },
   "outputs": [],
   "source": [
    "# define gaussian function to test\n",
    "def gaussian(x, mu, sig):\n",
    "    return np.exp(-np.power(x - mu, 2.) / (2 * np.power(sig, 2.)))"
   ]
  },
  {
   "cell_type": "code",
   "execution_count": 18,
   "metadata": {
    "collapsed": true
   },
   "outputs": [],
   "source": [
    "m = np.linspace(m0, mf, num_pontos_m)"
   ]
  },
  {
   "cell_type": "code",
   "execution_count": 19,
   "metadata": {
    "collapsed": true
   },
   "outputs": [],
   "source": [
    "# generate initial test condition to evolve in time\n",
    "test_initial_condition = gaussian(m, (m0+mf)/2., 1.)"
   ]
  },
  {
   "cell_type": "code",
   "execution_count": 20,
   "metadata": {},
   "outputs": [
    {
     "data": {
      "image/png": "[encoded data removed]",
      "text/plain": [
       "<matplotlib.figure.Figure at 0x7f42d0a92390>"
      ]
     },
     "metadata": {},
     "output_type": "display_data"
    }
   ],
   "source": [
    "from matplotlib import pyplot as mp\n",
    "mp.plot(m, test_initial_condition)\n",
    "mp.show()"
   ]
  },
  {
   "cell_type": "code",
   "execution_count": 21,
   "metadata": {},
   "outputs": [
    {
     "data": {
      "image/png": "[encoded data removed]",
      "text/plain": [
       "<matplotlib.figure.Figure at 0x7f42d0ac8810>"
      ]
     },
     "metadata": {},
     "output_type": "display_data"
    }
   ],
   "source": [
    "test_initial_condition_evolve = A.dot(test_initial_condition)\n",
    "mp.plot(m, test_initial_condition_evolve)\n",
    "mp.show()"
   ]
  },
  {
   "cell_type": "code",
   "execution_count": 22,
   "metadata": {},
   "outputs": [
    {
     "data": {
      "image/png": "[encoded data removed]",
      "text/plain": [
       "<matplotlib.figure.Figure at 0x7f42d09c6290>"
      ]
     },
     "metadata": {},
     "output_type": "display_data"
    }
   ],
   "source": [
    "sigma = 0.1\n",
    "np.random.seed(seed=1234)\n",
    "test_initial_condition_evolve += sigma*np.random.uniform(low=0.0, high=1.0, size=num_pontos_m)\n",
    "mp.plot(m, test_initial_condition_evolve)\n",
    "mp.show()"
   ]
  },
  {
   "cell_type": "code",
   "execution_count": 23,
   "metadata": {},
   "outputs": [
    {
     "data": {
      "text/plain": [
       "['duducosmos-pycosmicstar-46caf7b',\n",
       " 'duducosmos-pycosmicstar-46caf7b.tar.gz',\n",
       " 'mean_LBH.csv',\n",
       " 'quasar_data.csv',\n",
       " 'modelo-direto-apresentacao',\n",
       " 'apresentcao-primeiros-pontos']"
      ]
     },
     "execution_count": 23,
     "metadata": {},
     "output_type": "execute_result"
    }
   ],
   "source": [
    "os.listdir('.')"
   ]
  },
  {
   "cell_type": "code",
   "execution_count": 24,
   "metadata": {},
   "outputs": [
    {
     "ename": "ImportError",
     "evalue": "No module named objectivefunction",
     "output_type": "error",
     "traceback": [
      "\u001b[0;31m\u001b[0m",
      "\u001b[0;31mImportError\u001b[0mTraceback (most recent call last)",
      "\u001b[0;32m<ipython-input-24-a569910d005f>\u001b[0m in \u001b[0;36m<module>\u001b[0;34m()\u001b[0m\n\u001b[0;32m----> 1\u001b[0;31m \u001b[0;32mimport\u001b[0m \u001b[0mobjectivefunction\u001b[0m \u001b[0;32mas\u001b[0m \u001b[0mof\u001b[0m\u001b[0;34m\u001b[0m\u001b[0m\n\u001b[0m\u001b[1;32m      2\u001b[0m \u001b[0;32mimport\u001b[0m \u001b[0mregularization\u001b[0m \u001b[0;32mas\u001b[0m \u001b[0mreg\u001b[0m\u001b[0;34m\u001b[0m\u001b[0m\n\u001b[1;32m      3\u001b[0m \u001b[0;32mimport\u001b[0m \u001b[0mgeneticOptimizer\u001b[0m \u001b[0;32mas\u001b[0m \u001b[0mgn\u001b[0m\u001b[0;34m\u001b[0m\u001b[0m\n",
      "\u001b[0;31mImportError\u001b[0m: No module named objectivefunction"
     ]
    }
   ],
   "source": [
    "import objectivefunction as ofdd\n"
   ]
  },
  {
   "cell_type": "code",
   "execution_count": null,
   "metadata": {
    "collapsed": true
   },
   "outputs": [],
   "source": [
    "alpha = 0.02\n",
    "tik0 = reg.TikhonovOrder0(num_pontos_m)\n",
    "\n",
    "J = of.FuncJ(alpha, A.dot, tik0)\n",
    "Jmeasure = lambda f: J(f, test_initial_condition_evolve)\n",
    "\n",
    "def evaluate(individual):\n",
    "    return (Jmeasure(individual),)"
   ]
  },
  {
   "cell_type": "code",
   "execution_count": null,
   "metadata": {
    "collapsed": true
   },
   "outputs": [],
   "source": [
    "from deap import algorithms\n",
    "from deap import base\n",
    "from deap import creator\n",
    "from deap import tools"
   ]
  },
  {
   "cell_type": "code",
   "execution_count": null,
   "metadata": {
    "collapsed": true
   },
   "outputs": [],
   "source": [
    "creator.create(\"FitnessMin\", base.Fitness, weights=(-1.0,))\n",
    "creator.create(\"Individual\", np.ndarray, fitness=creator.FitnessMin)"
   ]
  },
  {
   "cell_type": "code",
   "execution_count": null,
   "metadata": {
    "collapsed": true
   },
   "outputs": [],
   "source": [
    "toolbox = base.Toolbox()"
   ]
  },
  {
   "cell_type": "code",
   "execution_count": null,
   "metadata": {
    "collapsed": true
   },
   "outputs": [],
   "source": [
    "np.random.seed(1234)\n",
    "toolbox.register(\"attr_float\", np.random.uniform, 0., 1.)\n",
    "toolbox.register(\"individual\", \n",
    "                 tools.initRepeat,\n",
    "                 creator.Individual,\n",
    "                 toolbox.attr_float,\n",
    "                 n=num_pontos_m)\n",
    "toolbox.register(\"population\", tools.initRepeat, list, toolbox.individual)"
   ]
  },
  {
   "cell_type": "code",
   "execution_count": null,
   "metadata": {
    "collapsed": true
   },
   "outputs": [],
   "source": [
    "toolbox.register(\"evaluate\", evaluate)\n",
    "toolbox.register(\"mate\", tools.cxBlend, alpha=0.5)\n",
    "toolbox.register(\"mutate\", tools.mutGaussian, mu=0, sigma=1, indpb=0.2)\n",
    "toolbox.register(\"select\", tools.selTournament, tournsize=6)"
   ]
  },
  {
   "cell_type": "code",
   "execution_count": null,
   "metadata": {
    "collapsed": true
   },
   "outputs": [],
   "source": [
    "pop = toolbox.population(n=500)"
   ]
  },
  {
   "cell_type": "code",
   "execution_count": null,
   "metadata": {
    "collapsed": true
   },
   "outputs": [],
   "source": [
    "stats = tools.Statistics(key=lambda ind: ind.fitness.values)\n",
    "stats.register(\"avg\", np.mean)\n",
    "stats.register(\"std\", np.std)\n",
    "stats.register(\"min\", np.min)\n",
    "stats.register(\"max\", np.max)\n",
    "\n",
    "#logbook = tools.Logbook()\n",
    "#logbook.record(gen=0, evals=30, **record)"
   ]
  },
  {
   "cell_type": "code",
   "execution_count": null,
   "metadata": {},
   "outputs": [],
   "source": [
    "result, logbook = algorithms.eaSimple(pop, \n",
    "                             toolbox, \n",
    "                             cxpb=0.5, \n",
    "                             mutpb=0.5, \n",
    "                             ngen=200, \n",
    "                             stats=stats, verbose=True)"
   ]
  },
  {
   "cell_type": "code",
   "execution_count": null,
   "metadata": {},
   "outputs": [],
   "source": [
    "best = tools.selBest(pop, k=1)[0]\n",
    "print('Current best fitness:', evaluate(best))"
   ]
  },
  {
   "cell_type": "code",
   "execution_count": null,
   "metadata": {},
   "outputs": [],
   "source": [
    "mp.plot(m, best)\n",
    "mp.show()"
   ]
  }
 ],
 "metadata": {
  "kernelspec": {
   "display_name": "Python 2",
   "language": "python",
   "name": "python2"
  },
  "language_info": {
   "codemirror_mode": {
    "name": "ipython",
    "version": 2
   },
   "file_extension": ".py",
   "mimetype": "text/x-python",
   "name": "python",
   "nbconvert_exporter": "python",
   "pygments_lexer": "ipython2",
   "version": "2.7.14"
  }
 },
 "nbformat": 4,
 "nbformat_minor": 2
}
